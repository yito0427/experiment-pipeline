{
 "cells": [
  {
   "cell_type": "markdown",
   "metadata": {},
   "source": [
    "# 4. データサイエンティストによる実験パイプラインの実行\n",
    "作成した.pyモジュールをCodeCommitにpushし、実験パイプラインを起動するためにexperiment.ymlを作成し、pushします。"
   ]
  },
  {
   "cell_type": "markdown",
   "metadata": {},
   "source": [
    "## 1. モジュールのpush\n",
    "TODO： experiment.yml以外では実験パイプラインは起動しない想定。要修正"
   ]
  },
  {
   "cell_type": "code",
   "execution_count": null,
   "metadata": {},
   "outputs": [],
   "source": [
    "import boto3\n",
    "\n",
    "codecommit = boto3.client('codecommit')"
   ]
  },
  {
   "cell_type": "markdown",
   "metadata": {},
   "source": [
    "2回目以降のpushでは、親のCommitIdが必要になる。"
   ]
  },
  {
   "cell_type": "markdown",
   "metadata": {},
   "source": [
    "### parent_commit_id取得\n",
    "https://boto3.amazonaws.com/v1/documentation/api/latest/reference/services/codecommit.html#CodeCommit.Client.get_file"
   ]
  },
  {
   "cell_type": "code",
   "execution_count": null,
   "metadata": {},
   "outputs": [],
   "source": [
    "response = codecommit.get_file(\n",
    "    repositoryName='demo-exp-project1',\n",
    "    #commitSpecifier='string',\n",
    "    filePath='preprocess.py'\n",
    ")"
   ]
  },
  {
   "cell_type": "code",
   "execution_count": null,
   "metadata": {},
   "outputs": [],
   "source": [
    "print(response['commitId'])"
   ]
  },
  {
   "cell_type": "code",
   "execution_count": null,
   "metadata": {},
   "outputs": [],
   "source": [
    "response = codecommit.put_file(\n",
    "    repositoryName='demo-exp-project1',\n",
    "    branchName='main',\n",
    "    fileContent=open(\"preprocess.py\", 'rb').read(),\n",
    "    filePath='preprocess.py',\n",
    "    commitMessage='string',\n",
    "    parentCommitId=response['commitId'],\n",
    ")"
   ]
  },
  {
   "cell_type": "code",
   "execution_count": null,
   "metadata": {},
   "outputs": [],
   "source": [
    "response = codecommit.put_file(\n",
    "    repositoryName='demo-exp-project1',\n",
    "    branchName='main',\n",
    "    fileContent=open(\"train.py\", 'rb').read(),\n",
    "    filePath='train.py',\n",
    "    parentCommitId=response['commitId'],\n",
    "    commitMessage='string',\n",
    ")"
   ]
  },
  {
   "cell_type": "code",
   "execution_count": null,
   "metadata": {},
   "outputs": [],
   "source": [
    "response = codecommit.put_file(\n",
    "    repositoryName='demo-exp-project1',\n",
    "    branchName='main',\n",
    "    fileContent=open(\"predict.py\", 'rb').read(),\n",
    "    filePath='predict.py',\n",
    "    parentCommitId=response['commitId'],\n",
    "    commitMessage='string',\n",
    ")"
   ]
  },
  {
   "cell_type": "code",
   "execution_count": null,
   "metadata": {},
   "outputs": [],
   "source": [
    "response = codecommit.put_file(\n",
    "    repositoryName='demo-exp-project1',\n",
    "    branchName='main',\n",
    "    fileContent=open(\"evaluate.py\", 'rb').read(),\n",
    "    filePath='evaluate.py',\n",
    "    parentCommitId=response['commitId'],\n",
    "    commitMessage='string',\n",
    ")"
   ]
  },
  {
   "cell_type": "markdown",
   "metadata": {},
   "source": [
    "## 2. experiment.ymlのpushをトリガとする実験パイプラインの実行\n",
    "実験のパラメータを記載したexperiment.ymlファイルを作成し、pushします。"
   ]
  },
  {
   "cell_type": "markdown",
   "metadata": {},
   "source": [
    "### 2-1. experiment.ymlの作成\n",
    "\n",
    "stateMachineArnには、02_create_exp_pipeline.ipynbで作成した、StepFunctionsの実験パイプラインのARNを記載します。データサイエンティストがMLOpsエンジニアから指定されるという運用を想定しています。\n",
    "\n",
    "今回の実験では、SageMakerのビルトインコンテナを利用します。\n",
    "ImageUriはリージョンによってURIが異なるので、ご自身のリージョンに適したURIを記入してください。\n",
    "\n",
    "https://docs.aws.amazon.com/sagemaker/latest/dg/sagemaker-algo-docker-registry-paths.html\n",
    "\n",
    "カスタムコンテナを指定することも可能です。"
   ]
  },
  {
   "cell_type": "code",
   "execution_count": null,
   "metadata": {},
   "outputs": [],
   "source": [
    "%%writefile experiment.yml\n",
    "\n",
    "comment: \"これはコメントです\"\n",
    "\n",
    "pipeline:\n",
    "  stateMachineArn: \"arn:aws:states:<your-region>:<your-account>:stateMachine:exp-preprocess-train-predict-evaluate2\" # MLOpsエンジニアから指定\n",
    "  input_data_uri: \"s3://demo-exp-pipeline-project1/dataset/census-income.csv\"\n",
    "    \n",
    "preprocess: \n",
    "  code: \"preprocess.py\"\n",
    "  ImageUri: \"354813040037.dkr.ecr.ap-northeast-1.amazonaws.com/sagemaker-scikit-learn:0.23-1-cpu-py3\" # TOKYOリージョン\n",
    "  #ImageUri: \"683313688378.dkr.ecr.us-east-1.amazonaws.com/sagemaker-scikit-learn:0.23-1-cpu-py3\" # バージニア北部リージョン\n",
    "  InstanceCount: 1\n",
    "  InstanceType: \"ml.t3.medium\"\n",
    "  VolumeSizeInGB: 10\n",
    "  args: [\n",
    "    \"--train-test-split-ratio\", \"0.8\",\n",
    "    \"--train-test-split-ratio2\", \"0.99\"\n",
    "  ]\n",
    "\n",
    "train:\n",
    "  code: \"train.py\"\n",
    "  ImageUri: \"354813040037.dkr.ecr.ap-northeast-1.amazonaws.com/sagemaker-scikit-learn:0.23-1-cpu-py3\" # TOKYOリージョン\n",
    "  #ImageUri: \"683313688378.dkr.ecr.us-east-1.amazonaws.com/sagemaker-scikit-learn:0.23-1-cpu-py3\" # バージニア北部リージョン\n",
    "  InstanceCount: 1\n",
    "  InstanceType: \"ml.t3.large\"\n",
    "  VolumeSizeInGB: 10\n",
    "  args: [\n",
    "    \"--c\", \"1.0\"\n",
    "  ]\n",
    "  \n",
    "predict: \n",
    "  code: \"predict.py\"\n",
    "  ImageUri: \"354813040037.dkr.ecr.ap-northeast-1.amazonaws.com/sagemaker-scikit-learn:0.23-1-cpu-py3\" # TOKYOリージョン\n",
    "  #ImageUri: \"683313688378.dkr.ecr.us-east-1.amazonaws.com/sagemaker-scikit-learn:0.23-1-cpu-py3\" # バージニア北部リージョン\n",
    "  InstanceCount: 1\n",
    "  InstanceType: \"ml.t3.xlarge\"\n",
    "  VolumeSizeInGB: 10\n",
    "  args: [\n",
    "    \"--c\", \"1.0\"\n",
    "  ]\n",
    "  \n",
    "evaluate: \n",
    "  code: \"evaluate.py\"\n",
    "  ImageUri: \"354813040037.dkr.ecr.ap-northeast-1.amazonaws.com/sagemaker-scikit-learn:0.23-1-cpu-py3\" # TOKYOリージョン\n",
    "  #ImageUri: \"683313688378.dkr.ecr.us-east-1.amazonaws.com/sagemaker-scikit-learn:0.23-1-cpu-py3\" # バージニア北部リージョン\n",
    "  InstanceCount: 1\n",
    "  InstanceType: \"ml.t3.2xlarge\"\n",
    "  VolumeSizeInGB: 10\n",
    "  args: [\n",
    "    \"--c\", \"1.0\"\n",
    "  ]"
   ]
  },
  {
   "cell_type": "markdown",
   "metadata": {},
   "source": [
    "StepFunctionsのARNの、リージョンとアカウントを置換します。"
   ]
  },
  {
   "cell_type": "code",
   "execution_count": null,
   "metadata": {},
   "outputs": [],
   "source": [
    "import boto3\n",
    "import sagemaker\n",
    "from sagemaker import get_execution_role\n",
    "\n",
    "sagemaker_session = sagemaker.Session()\n",
    "\n",
    "role = get_execution_role()\n",
    "region = sagemaker_session.boto_region_name\n",
    "account_id = boto3.client('sts').get_caller_identity().get('Account')"
   ]
  },
  {
   "cell_type": "code",
   "execution_count": null,
   "metadata": {},
   "outputs": [],
   "source": [
    "print(role)\n",
    "print(region)\n",
    "print(account_id)"
   ]
  },
  {
   "cell_type": "code",
   "execution_count": null,
   "metadata": {},
   "outputs": [],
   "source": [
    "import textfile\n",
    " \n",
    "textfile.replace('./experiment.yml', '<your-region>', region)\n",
    "textfile.replace('./experiment.yml', '<your-account>', account_id)"
   ]
  },
  {
   "cell_type": "markdown",
   "metadata": {},
   "source": [
    "### 2-1. experiment.ymlのpush\n",
    "実験パイプラインが起動します"
   ]
  },
  {
   "cell_type": "code",
   "execution_count": null,
   "metadata": {},
   "outputs": [],
   "source": [
    "response = codecommit.put_file(\n",
    "    repositoryName='demo-exp-project1',\n",
    "    branchName='main',\n",
    "    fileContent=open(\"experiment.yml\", 'rb').read(),\n",
    "    filePath='experiment.yml',\n",
    "    parentCommitId=response['commitId'],\n",
    "    commitMessage='string',\n",
    ")"
   ]
  },
  {
   "cell_type": "markdown",
   "metadata": {},
   "source": [
    "StepFunctionsのコンソール画面から、実験パイプラインの実行を確認してみましょう。\n",
    "\n",
    "実験パイプラインを用いることで、コードのモジュール化を促すことができました。モジュールとして管理することで、再利用性があがり、品質も上げることができます。\n",
    "本番化やリファクタリングはMLエンジニアによって必要になりますが、ノートブックを渡すよりも効率的に本番化が実施できます。\n",
    "データサイエンティストにとっては、実験の記録をとっておくことで、振り返りがしやすくなります。\n",
    "管理者にとっては、記録をきちんと取っておくことで、ノウハウの蓄積、共有が行えます。"
   ]
  },
  {
   "cell_type": "markdown",
   "metadata": {},
   "source": [
    "## 今後に向けて：パイプラインの改善\n",
    "今回はSageMaker Processingジョブで構成された実験パイプラインを用いて、ノートブックをモジュール化し、記録をとる例を提示しました。\n",
    "実験パイプラインの改善に向けては、以下のようなことができます。\n",
    "\n",
    "* SageMaker Trainingジョブを実験パイプラインに組み込む\n",
    "* SageMaker ExperimentsをStateMachine上で指定し、実験の記録を行う\n",
    "* 記録した実験結果をS3に出力し、QuickSightで可視化する\n",
    "\n",
    "SageMaker Experimentsは、StepFunctionsのステートマシンで記述を追加することで、実験結果を記録することができます。データサイエンティストがソースコードに記載しなくても実験結果を記録できるのはメリットの1つです。"
   ]
  },
  {
   "cell_type": "code",
   "execution_count": null,
   "metadata": {},
   "outputs": [],
   "source": []
  }
 ],
 "metadata": {
  "instance_type": "ml.t3.medium",
  "kernelspec": {
   "display_name": "Python 3 (Data Science)",
   "language": "python",
   "name": "python3__SAGEMAKER_INTERNAL__arn:aws:sagemaker:ap-northeast-1:102112518831:image/datascience-1.0"
  },
  "language_info": {
   "codemirror_mode": {
    "name": "ipython",
    "version": 3
   },
   "file_extension": ".py",
   "mimetype": "text/x-python",
   "name": "python",
   "nbconvert_exporter": "python",
   "pygments_lexer": "ipython3",
   "version": "3.7.10"
  }
 },
 "nbformat": 4,
 "nbformat_minor": 5
}
