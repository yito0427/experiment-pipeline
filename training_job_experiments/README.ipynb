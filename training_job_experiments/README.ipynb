{
 "cells": [
  {
   "cell_type": "markdown",
   "metadata": {},
   "source": [
    "# 変更処理"
   ]
  },
  {
   "cell_type": "markdown",
   "metadata": {},
   "source": [
    "train.pyをtrainingジョブ化する\n",
    "* experimentsで、評価値を取れるように\n",
    "* モデルは、tar.gzになってしまう。"
   ]
  },
  {
   "cell_type": "markdown",
   "metadata": {},
   "source": [
    "predict.py -> processingジョブでいける？\n",
    "* モデルをtar.gzで取得する必要ある。 -> フォルダ指定でいける\n",
    "* tar.gzの解凍処理が必要（ソース側で対応）\n",
    "* 予測値はoutputフォルダに格納する\n"
   ]
  },
  {
   "cell_type": "markdown",
   "metadata": {},
   "source": [
    "evaluate.pyをtrainingジョブ化する\n",
    "* experimtntsで、評価値を取れるように"
   ]
  },
  {
   "cell_type": "markdown",
   "metadata": {},
   "source": [
    "* CodeCommitのリポジトリは同様のものを使う -> バケットも共通\n",
    "* パイプラインは新しいものを使う\n",
    "* Lambdaはそのまま"
   ]
  },
  {
   "cell_type": "code",
   "execution_count": null,
   "metadata": {},
   "outputs": [],
   "source": []
  }
 ],
 "metadata": {
  "instance_type": "ml.t3.medium",
  "kernelspec": {
   "display_name": "Python 3 (Data Science)",
   "language": "python",
   "name": "python3__SAGEMAKER_INTERNAL__arn:aws:sagemaker:ap-northeast-1:102112518831:image/datascience-1.0"
  },
  "language_info": {
   "codemirror_mode": {
    "name": "ipython",
    "version": 3
   },
   "file_extension": ".py",
   "mimetype": "text/x-python",
   "name": "python",
   "nbconvert_exporter": "python",
   "pygments_lexer": "ipython3",
   "version": "3.7.10"
  }
 },
 "nbformat": 4,
 "nbformat_minor": 4
}
