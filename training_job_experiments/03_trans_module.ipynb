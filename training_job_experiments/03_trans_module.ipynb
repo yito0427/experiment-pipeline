{
 "cells": [
  {
   "cell_type": "markdown",
   "metadata": {},
   "source": [
    "# 3. データサイエンティストによる、ノートブックのモジュール化\n",
    "01_exp_on_notebook.ipynb で実施した実験をモジュール化していきます。"
   ]
  },
  {
   "cell_type": "markdown",
   "metadata": {},
   "source": [
    "## モジュール化するスクリプト\n",
    "以下のスクリプトを4つのモジュールに分けます。\n",
    "* 前処理 : preprocess.py\n",
    "* 学習 : train.py\n",
    "* 推論 : predict.py\n",
    "* 評価 : evaluate.py"
   ]
  },
  {
   "cell_type": "code",
   "execution_count": null,
   "metadata": {},
   "outputs": [],
   "source": [
    "# Import the latest sagemaker, stepfunctions and boto3 SDKs\n",
    "import sys\n",
    "\n",
    "!{sys.executable} -m pip install --upgrade pip\n",
    "!{sys.executable} -m pip install -qU pandas"
   ]
  },
  {
   "cell_type": "code",
   "execution_count": null,
   "metadata": {},
   "outputs": [],
   "source": [
    "import pandas as pd\n",
    "import numpy as np\n",
    "from sklearn.model_selection import train_test_split\n",
    "from sklearn.preprocessing import StandardScaler, OneHotEncoder, KBinsDiscretizer\n",
    "from sklearn.compose import make_column_transformer\n",
    "from sklearn.linear_model import LogisticRegression\n",
    "from sklearn.metrics import classification_report, roc_auc_score, accuracy_score\n",
    "df = pd.read_csv(\"./dataset/census-income.csv\")\n",
    "df = df[[\"age\",\"education\",\"major industry code\",\"class of worker\",\"num persons worked for employer\",\"capital gains\",\"capital losses\",\"dividends from stocks\",\"income\",]]\n",
    "df.dropna(inplace=True)\n",
    "df.drop_duplicates(inplace=True)\n",
    "df.replace([\" - 50000.\", \" 50000+.\"], [0, 1], inplace=True)\n",
    "X_train, X_test, y_train, y_test = train_test_split(df.drop(\"income\", axis=1), df[\"income\"], test_size=0.2)\n",
    "preprocess = make_column_transformer((KBinsDiscretizer(encode=\"onehot-dense\", n_bins=10),[\"age\", \"num persons worked for employer\"],),(StandardScaler(),[\"capital gains\", \"capital losses\", \"dividends from stocks\"],),(OneHotEncoder(sparse=False, handle_unknown='ignore'),[\"education\", \"major industry code\", \"class of worker\"],),)\n",
    "X_train = preprocess.fit_transform(X_train)\n",
    "X_test = preprocess.transform(X_test)\n",
    "model = LogisticRegression(class_weight=\"balanced\", solver=\"lbfgs\", C=float(1.0), verbose=1)\n",
    "model.fit(X_train, y_train)\n",
    "predictions = model.predict(X_test)\n",
    "report_dict = classification_report(y_test, predictions, output_dict=True)\n",
    "report_dict[\"accuracy\"] = accuracy_score(y_test, predictions)\n",
    "report_dict[\"roc_auc\"] = roc_auc_score(y_test, predictions)\n",
    "print(report_dict)"
   ]
  },
  {
   "cell_type": "markdown",
   "metadata": {},
   "source": [
    "# モジュール化の方針\n",
    "* はじめにライブラリの読み込み\n",
    "* ノートブックから切り出した処理を関数化する\n",
    "* 関数のはじめにファイル読み込みを行い、最後にファイル出力を行う\n",
    "* 引数の処理を行なった後、関数を実行する\n",
    "\n",
    "ロジックの検証はローカルで実施も行う。ローカル実行の場合、ファイルはoutputディレクトリで連携する。"
   ]
  },
  {
   "cell_type": "markdown",
   "metadata": {},
   "source": [
    "## preprocess.py"
   ]
  },
  {
   "cell_type": "code",
   "execution_count": null,
   "metadata": {},
   "outputs": [],
   "source": [
    "%%writefile preprocess.py\n",
    "\n",
    "import os\n",
    "import argparse\n",
    "\n",
    "import pandas as pd\n",
    "from sklearn.model_selection import train_test_split\n",
    "from sklearn.preprocessing import StandardScaler, OneHotEncoder, LabelBinarizer, KBinsDiscretizer\n",
    "from sklearn.compose import make_column_transformer\n",
    "\n",
    "\n",
    "def preprocess(inputpath=\"/opt/ml/processing/input\", outputpath=\"/opt/ml/processing/output\", train_test_split_ratio=0.5):\n",
    "    ### ファイル入力(ノートブックと同じ)\n",
    "    \n",
    "    ### ノートブック処理\n",
    "    df = pd.read_csv(f\"{inputpath}/census-income.csv\")\n",
    "    df = df[[\"age\",\"education\",\"major industry code\",\"class of worker\",\"num persons worked for employer\",\"capital gains\",\"capital losses\",\"dividends from stocks\",\"income\",]]\n",
    "    df.dropna(inplace=True)\n",
    "    df.drop_duplicates(inplace=True)\n",
    "    df.replace([\" - 50000.\", \" 50000+.\"], [0, 1], inplace=True)\n",
    "    X_train, X_test, y_train, y_test = train_test_split(df.drop(\"income\", axis=1), df[\"income\"], test_size=train_test_split_ratio)\n",
    "    preprocess = make_column_transformer((KBinsDiscretizer(encode=\"onehot-dense\", n_bins=10),[\"age\", \"num persons worked for employer\"],),(StandardScaler(),[\"capital gains\", \"capital losses\", \"dividends from stocks\"],),(OneHotEncoder(sparse=False, handle_unknown='ignore'),[\"education\", \"major industry code\", \"class of worker\"],),)\n",
    "    X_train = preprocess.fit_transform(X_train)\n",
    "    X_test = preprocess.transform(X_test)\n",
    "    \n",
    "    ### ファイル出力\n",
    "    os.makedirs(outputpath, exist_ok=True)\n",
    "    pd.DataFrame(X_train).to_csv(f\"{outputpath}/X_train.csv\", index=False)\n",
    "    pd.DataFrame(y_train).to_csv(f\"{outputpath}/y_train.csv\", index=False)\n",
    "    pd.DataFrame(X_test).to_csv(f\"{outputpath}/X_test.csv\", index=False)\n",
    "    pd.DataFrame(y_test).to_csv(f\"{outputpath}/y_test.csv\", index=False)\n",
    "\n",
    "\n",
    "if __name__ == \"__main__\":\n",
    "    ### 環境変数確認\n",
    "    print(os.environ)\n",
    "    \n",
    "    ### 引数処理\n",
    "    parser = argparse.ArgumentParser()\n",
    "    parser.add_argument(\"--train-test-split-ratio\", type=float, default=0.5)\n",
    "    args, _ = parser.parse_known_args()\n",
    "    print(\"Received arguments {}\".format(args))\n",
    "    \n",
    "    ### 関数の実行\n",
    "    if os.getenv('SM_MODEL_DIR'):\n",
    "        print('===== SageMaker Processing Job =====')\n",
    "        preprocess(train_test_split_ratio=args.train_test_split_ratio)\n",
    "    else:\n",
    "        print('===== Local =====')\n",
    "        preprocess(inputpath=\"./dataset\", outputpath=\"output/preprocess\", train_test_split_ratio=args.train_test_split_ratio)"
   ]
  },
  {
   "cell_type": "code",
   "execution_count": null,
   "metadata": {},
   "outputs": [],
   "source": [
    "### ローカル実行\n",
    "%run preprocess.py --train-test-split-ratio 0.2"
   ]
  },
  {
   "cell_type": "markdown",
   "metadata": {},
   "source": [
    "## train.py"
   ]
  },
  {
   "cell_type": "code",
   "execution_count": null,
   "metadata": {},
   "outputs": [],
   "source": [
    "%%writefile train.py\n",
    "\n",
    "import os\n",
    "import argparse\n",
    "\n",
    "import pandas as pd\n",
    "from sklearn.linear_model import LogisticRegression\n",
    "import joblib\n",
    "\n",
    "def train(inputpath=\"/opt/ml/processing/input\", outputpath=\"/opt/ml/processing/output\", c=1.0):\n",
    "    ### ファイル読み込み\n",
    "    X_train = pd.read_csv(f\"{inputpath}/preprocess/X_train.csv\")\n",
    "    y_train = pd.read_csv(f\"{inputpath}/preprocess/y_train.csv\")\n",
    "    \n",
    "    ### ノートブック処理\n",
    "    model = LogisticRegression(class_weight=\"balanced\", solver=\"lbfgs\", C=float(c), verbose=1)\n",
    "    model.fit(X_train, y_train)\n",
    "    \n",
    "    ### ファイル出力\n",
    "    os.makedirs(outputpath, exist_ok=True)\n",
    "    joblib.dump(model, f\"{outputpath}/model.joblib\")\n",
    "\n",
    "\n",
    "if __name__ == \"__main__\":\n",
    "    ### 環境変数取得\n",
    "    print(os.environ)\n",
    "    \n",
    "    ### 引数処理\n",
    "    parser = argparse.ArgumentParser()\n",
    "    parser.add_argument(\"--c\", type=float, default=1.0)\n",
    "    args, _ = parser.parse_known_args()\n",
    "    print(\"Received arguments {}\".format(args))\n",
    "    \n",
    "    ### モジュールの実行\n",
    "    if os.getenv('SM_MODEL_DIR'):\n",
    "        print('===== SageMaker Processing Job =====')\n",
    "        train(c=args.c)\n",
    "    else:\n",
    "        print('===== Local =====')\n",
    "        train(inputpath=\"./output\", outputpath=\"output/train\", c=args.c)"
   ]
  },
  {
   "cell_type": "code",
   "execution_count": null,
   "metadata": {},
   "outputs": [],
   "source": [
    "%run train.py --c=0.5"
   ]
  },
  {
   "cell_type": "markdown",
   "metadata": {},
   "source": [
    "## predict.py"
   ]
  },
  {
   "cell_type": "code",
   "execution_count": null,
   "metadata": {},
   "outputs": [],
   "source": [
    "%%writefile predict.py\n",
    "\n",
    "import os\n",
    "import argparse\n",
    "\n",
    "import pandas as pd\n",
    "import joblib\n",
    "\n",
    "\n",
    "def predict(inputpath=\"/opt/ml/processing/input\", outputpath=\"/opt/ml/processing/output\"):\n",
    "    ### ファイル読み込み\n",
    "    X_test = pd.read_csv(f\"{inputpath}/preprocess/X_test.csv\")\n",
    "    model = joblib.load(f\"{inputpath}/train/model.joblib\")\n",
    "    \n",
    "    ### ノートブック処理\n",
    "    predictions = model.predict(X_test)\n",
    "    \n",
    "    ### ファイル出力\n",
    "    os.makedirs(outputpath, exist_ok=True)\n",
    "    pd.DataFrame(predictions).to_csv(f\"{outputpath}/predictions.csv\", index=False)    \n",
    "\n",
    "\n",
    "if __name__ == \"__main__\":\n",
    "    ### 環境変数取得\n",
    "    print(os.environ)\n",
    "    \n",
    "    ### 引数処理\n",
    "    \n",
    "    ### モジュールの実行\n",
    "    if os.getenv('SM_MODEL_DIR'):\n",
    "        print('===== SageMaker Processing Job =====')\n",
    "        predict()\n",
    "    else:\n",
    "        print('===== Local =====')\n",
    "        predict(inputpath=\"./output\", outputpath=\"output/predict\")"
   ]
  },
  {
   "cell_type": "code",
   "execution_count": null,
   "metadata": {},
   "outputs": [],
   "source": [
    "%run predict.py"
   ]
  },
  {
   "cell_type": "markdown",
   "metadata": {},
   "source": [
    "## evaluate.py"
   ]
  },
  {
   "cell_type": "code",
   "execution_count": null,
   "metadata": {},
   "outputs": [],
   "source": [
    "%%writefile evaluate.py\n",
    "\n",
    "import os\n",
    "import argparse\n",
    "\n",
    "import pandas as pd\n",
    "from sklearn.metrics import classification_report, roc_auc_score, accuracy_score\n",
    "\n",
    "def evaluate(inputpath=\"/opt/ml/processing/input\", outputpath=\"/opt/ml/processing/output\"):\n",
    "    ### ファイル読み込み\n",
    "    y_test = pd.read_csv(f\"{inputpath}/preprocess/y_test.csv\")\n",
    "    predictions = pd.read_csv(f\"{inputpath}/predict/predictions.csv\")\n",
    "    \n",
    "    ### ノートブック処理\n",
    "    report_dict = classification_report(y_test, predictions, output_dict=True)\n",
    "    report_dict[\"accuracy\"] = accuracy_score(y_test, predictions)\n",
    "    report_dict[\"roc_auc\"] = roc_auc_score(y_test, predictions)\n",
    "    print(report_dict)\n",
    "    \n",
    "    ### ファイル出力\n",
    "    os.makedirs(outputpath, exist_ok=True)\n",
    "    pd.DataFrame(report_dict).to_csv(f\"{outputpath}/report_dict.csv\", index=False)\n",
    "\n",
    "\n",
    "if __name__ == \"__main__\":\n",
    "    ### 環境変数取得\n",
    "    print(os.environ)\n",
    "    \n",
    "    ### 引数処理\n",
    "    \n",
    "    ### モジュールの実行\n",
    "    if os.getenv('SM_MODEL_DIR'):\n",
    "        print('===== SageMaker Processing Job =====')\n",
    "        evaluate()\n",
    "    else:\n",
    "        print('===== Local =====')\n",
    "        evaluate(inputpath=\"./output\", outputpath=\"output/evaluate\")"
   ]
  },
  {
   "cell_type": "code",
   "execution_count": null,
   "metadata": {},
   "outputs": [],
   "source": [
    "%run evaluate.py"
   ]
  },
  {
   "cell_type": "markdown",
   "metadata": {},
   "source": [
    "ノートブックで作成したモデル構築、評価コードを.pyコードに変更することができました。\n",
    "作成した .pyコードをCodeCommitにpushし、実験パイプラインを用いて記録を行います。"
   ]
  },
  {
   "cell_type": "code",
   "execution_count": null,
   "metadata": {},
   "outputs": [],
   "source": []
  }
 ],
 "metadata": {
  "instance_type": "ml.t3.medium",
  "kernelspec": {
   "display_name": "Python 3 (Data Science)",
   "language": "python",
   "name": "python3__SAGEMAKER_INTERNAL__arn:aws:sagemaker:ap-northeast-1:102112518831:image/datascience-1.0"
  },
  "language_info": {
   "codemirror_mode": {
    "name": "ipython",
    "version": 3
   },
   "file_extension": ".py",
   "mimetype": "text/x-python",
   "name": "python",
   "nbconvert_exporter": "python",
   "pygments_lexer": "ipython3",
   "version": "3.7.10"
  }
 },
 "nbformat": 4,
 "nbformat_minor": 5
}
