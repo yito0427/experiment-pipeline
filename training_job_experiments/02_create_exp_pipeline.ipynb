{
 "cells": [
  {
   "cell_type": "markdown",
   "metadata": {},
   "source": [
    "* CodeCommitのリポジトリは同様のものを使う -> バケットも共通\n",
    "* パイプラインは新しいものを使う\n",
    "* Lambdaはそのまま"
   ]
  },
  {
   "cell_type": "markdown",
   "metadata": {},
   "source": [
    "# 2. MLOpsエンジニアによる実験パイプラインの構築\n",
    "本ノートブックでは、データサイエンティストの実験を支援する実験パイプラインを構築します。\n",
    "この実験パイプラインの構築は、MLOpsエンジニアによって実行されます。\n",
    "AWSマネジメントコンソールから実施することができますが、今回はノートブック上でboto3を用いて構築を行います。"
   ]
  },
  {
   "cell_type": "markdown",
   "metadata": {},
   "source": [
    "### 参考：MLOpsエンジニア\n",
    "\n",
    "https://docs.aws.amazon.com/wellarchitected/latest/machine-learning-lens/mloe-02.html\n",
    "\n",
    "MLOps engineer — Builds and manages automation pipelines to operationalize the ML platform and ML pipelines for fully/partially automated CI/CD pipelines. These pipelines automate building Docker images, model training, and model deployment. MLOps engineers also have a role in overall platform governance such as data / model lineage, as well as infrastructure and model monitoring.\n",
    "\n",
    "MLOpsエンジニア - 完全/部分的に自動化されたCI/CDパイプラインのためのMLプラットフォームとMLパイプラインを運用するための自動化パイプラインを構築し管理する。これらのパイプラインは、Dockerイメージの構築、モデルのトレーニング、およびモデルのデプロイを自動化します。また、MLOpsエンジニアは、データ/モデルのリネージ、インフラストラクチャやモデルのモニタリングなど、プラットフォーム全体のガバナンスを担う役割も担っています。"
   ]
  },
  {
   "cell_type": "markdown",
   "metadata": {},
   "source": [
    "## 0. 事前準備（手動）\n",
    "\n",
    "構築作業のために、このノートブックを実行しているIAMroleに対して、いくつか権限が必要になります。\n",
    "これらの権限を付与するために、手動でIAMfullAccessを付与してください。（実際の運用の際は最小権限を考慮ください）\n",
    "\n",
    "\n",
    "* CodeCommitのCreate\n",
    "* LambdaのCreate, SFnの実行\n",
    "* SFnのCreate\n",
    "* Lambda用、SFn用のIAMを作成するための権限\n",
    "* S3バケットのCreate"
   ]
  },
  {
   "cell_type": "markdown",
   "metadata": {},
   "source": [
    "https://boto3.amazonaws.com/v1/documentation/api/latest/reference/services/iam.html#IAM.Client.attach_role_policy"
   ]
  },
  {
   "cell_type": "code",
   "execution_count": null,
   "metadata": {},
   "outputs": [],
   "source": [
    "import boto3\n",
    "import sagemaker\n",
    "from sagemaker import get_execution_role\n",
    "\n",
    "sagemaker_session = sagemaker.Session()\n",
    "\n",
    "role = get_execution_role()\n",
    "region = sagemaker_session.boto_region_name\n",
    "account_id = boto3.client('sts').get_caller_identity().get('Account')"
   ]
  },
  {
   "cell_type": "code",
   "execution_count": null,
   "metadata": {},
   "outputs": [],
   "source": [
    "print(role)\n",
    "print(region)\n",
    "print(account_id)"
   ]
  },
  {
   "cell_type": "markdown",
   "metadata": {},
   "source": [
    "## IAMは設定済みのため、削除"
   ]
  },
  {
   "cell_type": "markdown",
   "metadata": {},
   "source": [
    "## 【削除】1. S3バケット作成、データ配置\n",
    "実験のデータを格納するためのs3バケットを格納します。\n",
    "このバケットは、LambdaがStepFunctionsにソースコードを連携するためにも利用します。"
   ]
  },
  {
   "cell_type": "markdown",
   "metadata": {},
   "source": [
    "## 【削除】2.CodeCommitリポジトリの作成\n",
    "モジュール化されたソースコードを管理するためのリポジトリを作成します。\n",
    "機械学習プロジェクトごとにリポジトリを用意する想定です。"
   ]
  },
  {
   "cell_type": "markdown",
   "metadata": {},
   "source": [
    "## 【削除】3.AWS Lambdaの構築\n",
    "コードがpushされた時に、コンフィグファイル（experiment.yml）に指定されたパイプラインを起動するためのLambda関数を構築します。\n",
    "\n",
    "https://boto3.amazonaws.com/v1/documentation/api/latest/reference/services/lambda.html#Lambda.Client.create_function"
   ]
  },
  {
   "cell_type": "markdown",
   "metadata": {},
   "source": [
    "## 【削除】4. LambdaとCodeCommitの連携\n",
    "CodeCommitのプロジェクト用リポジトリにコードがpushされた場合にLambdaが起動するように、LambdaとCodeCommitの連携をします。"
   ]
  },
  {
   "cell_type": "markdown",
   "metadata": {},
   "source": [
    "Lambda、CodeCommitのコンソール画面から、トリガーが設定されていることが確認できます。"
   ]
  },
  {
   "cell_type": "markdown",
   "metadata": {},
   "source": [
    "# 5.0 Experiments を作成する\n",
    "state machine に指定するため、事前に作成が必要"
   ]
  },
  {
   "cell_type": "code",
   "execution_count": null,
   "metadata": {},
   "outputs": [],
   "source": [
    "import sys\n",
    "!{sys.executable} -m pip install sagemaker-experiments"
   ]
  },
  {
   "cell_type": "code",
   "execution_count": null,
   "metadata": {},
   "outputs": [],
   "source": [
    "from smexperiments.experiment import Experiment"
   ]
  },
  {
   "cell_type": "code",
   "execution_count": null,
   "metadata": {},
   "outputs": [],
   "source": [
    "#experiment_name = \"sfn-evaluate-model\"\n",
    "experiment_name = \"demo-exp-project1\"\n",
    "\n",
    "\n",
    "# create the experiment if it doesn't exist\n",
    "try:\n",
    "    experiment_evaluate = Experiment.load(experiment_name=experiment_name)\n",
    "except Exception as ex:\n",
    "    if \"ResourceNotFound\" in str(ex):\n",
    "        experiment_evaluate = Experiment.create(\n",
    "            experiment_name=experiment_name, \n",
    "            description=\"model evaluation\", \n",
    "            sagemaker_boto_client=boto3.client('sagemaker'))\n",
    "\n",
    "print(experiment_evaluate.experiment_name)"
   ]
  },
  {
   "cell_type": "markdown",
   "metadata": {},
   "source": [
    "## 5.StepFunctionsのステートマシン作成\n",
    "今回は作成済みのstate machineをデプロイしますが、作成には Workflow Studio を利用するのもよいでしょう。\n",
    "\n",
    "https://aws.amazon.com/jp/blogs/news/new-aws-step-functions-workflow-studio-a-low-code-visual-tool-for-building-state-machines/"
   ]
  },
  {
   "cell_type": "markdown",
   "metadata": {},
   "source": [
    "### 5-1. ロールの作成と、カスタムポリシーアタッチ"
   ]
  },
  {
   "cell_type": "markdown",
   "metadata": {},
   "source": [
    "### ロール作成\n",
    "新パイプライン用の実行ロールを作成します。\n",
    "\n",
    "demo-StepFunctions-ExperimentPipeline-Role2"
   ]
  },
  {
   "cell_type": "code",
   "execution_count": null,
   "metadata": {},
   "outputs": [],
   "source": [
    "iam_client = boto3.client('iam')"
   ]
  },
  {
   "cell_type": "code",
   "execution_count": null,
   "metadata": {},
   "outputs": [],
   "source": [
    "import json"
   ]
  },
  {
   "cell_type": "code",
   "execution_count": null,
   "metadata": {},
   "outputs": [],
   "source": [
    "step_functions_role_name = 'demo-StepFunctions-ExperimentPipeline-Role2'\n",
    "\n",
    "assume_role_policy = {\n",
    "      \"Version\": \"2012-10-17\",\n",
    "      \"Statement\": {\"Sid\": \"\",\n",
    "                    \"Effect\": \"Allow\",\n",
    "                    \"Principal\": {\"Service\": [\"states.amazonaws.com\",\n",
    "                                              \"sagemaker.amazonaws.com\"\n",
    "                                             ]\n",
    "                                 },\n",
    "                    \"Action\": \"sts:AssumeRole\"\n",
    "                   }\n",
    "    }\n",
    "\n",
    "response = iam_client.create_role(\n",
    "    Path = '/service-role/',\n",
    "    RoleName = step_functions_role_name,\n",
    "    AssumeRolePolicyDocument = json.dumps(assume_role_policy),\n",
    "    MaxSessionDuration=3600*12 # 12 hours\n",
    ")\n",
    "\n",
    "step_functions_role_arn = response['Role']['Arn']"
   ]
  },
  {
   "cell_type": "code",
   "execution_count": null,
   "metadata": {},
   "outputs": [],
   "source": [
    "step_functions_role_arn"
   ]
  },
  {
   "cell_type": "markdown",
   "metadata": {},
   "source": [
    "### ポリシー作成\n",
    "\n",
    "以下の権限を持つカスタムポリシーを作成します。\n",
    "* StateMachineのアップデートのための、CloudWatchEvent権限\n",
    "* SageMakerのProcessingジョブ発行\n",
    "* S3からのファイル読み込み\n",
    "* CloudWatch Logsへ記録"
   ]
  },
  {
   "cell_type": "code",
   "execution_count": null,
   "metadata": {},
   "outputs": [],
   "source": [
    "import json\n",
    "\n",
    "step_functions_policy_name = 'demo-StepFunctions-ExperimentPipeline-Policy2'\n",
    "custom_policy ={\n",
    "    \"Version\": \"2012-10-17\",\n",
    "    \"Statement\": [\n",
    "        {\n",
    "            \"Effect\": \"Allow\",\n",
    "            \"Action\": [\n",
    "                \"events:PutTargets\",\n",
    "                \"events:DescribeRule\",\n",
    "                \"events:PutRule\",\n",
    "                \"sagemaker:CreateTrial\",\n",
    "                \"sagemaker:CreateProcessingJob\",\n",
    "                \"sagemaker:CreateTrainingJob\",\n",
    "                \"s3:ListBucket\",\n",
    "                \"s3:PutObject\",\n",
    "                \"s3:GetObject\",\n",
    "                \"logs:CreateLogGroup\",\n",
    "                \"logs:CreateLogStream\",\n",
    "                \"logs:PutLogEvents\"\n",
    "            ],\n",
    "            \"Resource\": \"*\"\n",
    "        },\n",
    "        {\n",
    "            \"Effect\": \"Allow\",\n",
    "            \"Action\": \"iam:PassRole\",\n",
    "            \"Resource\": step_functions_role_arn,\n",
    "            \"Condition\": {\n",
    "                \"StringEquals\": {\n",
    "                    \"iam:PassedToService\": \"sagemaker.amazonaws.com\"\n",
    "                }\n",
    "            }\n",
    "        }\n",
    "    ]\n",
    "}\n",
    "\n",
    "response = iam_client.create_policy(\n",
    "    PolicyName=step_functions_policy_name,\n",
    "    PolicyDocument=json.dumps(custom_policy),\n",
    ")\n",
    "\n",
    "step_functions_policy_arn = response['Policy']['Arn']"
   ]
  },
  {
   "cell_type": "code",
   "execution_count": null,
   "metadata": {},
   "outputs": [],
   "source": [
    "step_functions_policy_arn"
   ]
  },
  {
   "cell_type": "markdown",
   "metadata": {},
   "source": [
    "作成したカスタムポリシーをロールにアタッチします。"
   ]
  },
  {
   "cell_type": "code",
   "execution_count": null,
   "metadata": {},
   "outputs": [],
   "source": [
    "response = iam_client.attach_role_policy(\n",
    "    RoleName=step_functions_role_name,\n",
    "    PolicyArn=step_functions_policy_arn\n",
    ")"
   ]
  },
  {
   "cell_type": "markdown",
   "metadata": {},
   "source": [
    "### 5-2. state_definition.jsonを作成'\n",
    "visual editorで作成することもできます。ここでは簡単に作成済みのjsonから構築します。"
   ]
  },
  {
   "cell_type": "markdown",
   "metadata": {},
   "source": [
    "修正中ステートマシン（学習ジョブ版）"
   ]
  },
  {
   "cell_type": "code",
   "execution_count": null,
   "metadata": {},
   "outputs": [],
   "source": [
    "state_definition = {\n",
    "  \"Comment\": \"A description of my state machine\",\n",
    "  \"StartAt\": \"CreateTrial\",\n",
    "  \"States\": {\n",
    "    \"CreateTrial\": {\n",
    "      \"Type\": \"Task\",\n",
    "      \"Next\": \"Preprocess\",\n",
    "      \"Parameters\": {\n",
    "        \"ExperimentName.$\": \"$$.Execution.Input['experiment']\",\n",
    "        \"TrialName.$\": \"$$.Execution.Input['trial']\"\n",
    "      },\n",
    "      \"Resource\": \"arn:aws:states:::aws-sdk:sagemaker:createTrial\"\n",
    "    },\n",
    "    \"Preprocess\": {\n",
    "      \"Type\": \"Task\",\n",
    "      \"Resource\": \"arn:aws:states:::sagemaker:createProcessingJob.sync\",\n",
    "      \"Parameters\": {\n",
    "        \"ProcessingInputs\": [\n",
    "          {\n",
    "            \"InputName\": \"input\",\n",
    "            \"AppManaged\": False,\n",
    "            \"S3Input\": {\n",
    "              \"S3Uri.$\": \"$$.Execution.Input['pipeline']['input_data_uri']\",\n",
    "              \"LocalPath\": \"/opt/ml/processing/input\",\n",
    "              \"S3DataType\": \"S3Prefix\",\n",
    "              \"S3InputMode\": \"File\",\n",
    "              \"S3DataDistributionType\": \"FullyReplicated\",\n",
    "              \"S3CompressionType\": \"None\"\n",
    "            }\n",
    "          },\n",
    "          {\n",
    "            \"InputName\": \"code\",\n",
    "            \"AppManaged\": False,\n",
    "            \"S3Input\": {\n",
    "              \"S3Uri.$\": \"$$.Execution.Input['preprocess']['code_s3']\",\n",
    "              \"LocalPath\": \"/opt/ml/processing/input/code\",\n",
    "              \"S3DataType\": \"S3Prefix\",\n",
    "              \"S3InputMode\": \"File\",\n",
    "              \"S3DataDistributionType\": \"FullyReplicated\",\n",
    "              \"S3CompressionType\": \"None\"\n",
    "            }\n",
    "          }\n",
    "        ],\n",
    "        \"ProcessingOutputConfig\": {\n",
    "          \"Outputs\": [\n",
    "            {\n",
    "              \"OutputName\": \"output\",\n",
    "              \"AppManaged\": False,\n",
    "              \"S3Output\": {\n",
    "                \"S3Uri.$\": \"$$.Execution.Input['preprocess']['output_data_uri']\",\n",
    "                \"LocalPath\": \"/opt/ml/processing/output\",\n",
    "                \"S3UploadMode\": \"EndOfJob\"\n",
    "              }\n",
    "            }\n",
    "          ]\n",
    "        },\n",
    "        \"AppSpecification\": {\n",
    "          \"ImageUri.$\": \"$$.Execution.Input['preprocess']['ImageUri']\",\n",
    "          \"ContainerArguments.$\": \"$$.Execution.Input['preprocess']['args']\",\n",
    "          \"ContainerEntrypoint.$\": \"States.Array('python3', $$.Execution.Input['preprocess']['ContainerEntrypoint'])\"\n",
    "        },\n",
    "        \"ProcessingResources\": {\n",
    "          \"ClusterConfig\": {\n",
    "            \"InstanceCount.$\": \"$$.Execution.Input['preprocess']['InstanceCount']\",\n",
    "            \"InstanceType.$\": \"$$.Execution.Input['preprocess']['InstanceType']\",\n",
    "            \"VolumeSizeInGB.$\": \"$$.Execution.Input['preprocess']['VolumeSizeInGB']\"\n",
    "          }\n",
    "        },\n",
    "        \"RoleArn\": step_functions_role_arn,\n",
    "        \"ProcessingJobName.$\": \"States.Format('{}-preprocess', $$.Execution.Input['id'])\"\n",
    "      },\n",
    "      \"Next\": \"train\"\n",
    "    },\n",
    "    \"train\": {\n",
    "      \"Type\": \"Task\",\n",
    "      \"Resource\": \"arn:aws:states:::sagemaker:createTrainingJob.sync\",\n",
    "      \"Parameters\": {\n",
    "        \"AlgorithmSpecification\": {\n",
    "          \"MetricDefinitions\": [\n",
    "            {\n",
    "              \"Name\": \"train:coefficient\",\n",
    "              \"Regex\": \".*?coefficient: (.*?)\"\n",
    "            },\n",
    "            {\n",
    "              \"Name\": \"train:intercept \",\n",
    "              \"Regex\": \".*?intercept: (.*?)\"\n",
    "            }\n",
    "          ],\n",
    "          \"TrainingImage.$\": \"$$.Execution.Input['train']['ImageUri']\",\n",
    "          \"TrainingInputMode\": \"File\"\n",
    "        },\n",
    "        \"HyperParameters\": {\n",
    "          \"sagemaker_program.$\": \"States.Format('/opt/ml/input/data/train_code/{}', $$.Execution.Input['train']['code'])\"\n",
    "        },\n",
    "        \"InputDataConfig\": [\n",
    "          {\n",
    "            \"ChannelName\": \"preprocess\",\n",
    "            \"ContentType\": \"text/csv\",\n",
    "            \"DataSource\": {\n",
    "              \"S3DataSource\": {\n",
    "                \"S3DataDistributionType\": \"FullyReplicated\",\n",
    "                \"S3DataType\": \"S3Prefix\",\n",
    "                \"S3Uri\": \"s3://demo-exp-pipeline-project1/demo-exp-project1_TeamRole_2022-04-04T02:58:25.379+0000_729803bc930a08a719ac0f74c316937b5515ea91/preprocess/\"\n",
    "              }\n",
    "            }\n",
    "          },\n",
    "          {\n",
    "            \"ChannelName\": \"train_code\",\n",
    "            \"ContentType\": \"text/csv\",\n",
    "            \"DataSource\": {\n",
    "              \"S3DataSource\": {\n",
    "                \"S3DataDistributionType\": \"FullyReplicated\",\n",
    "                \"S3DataType\": \"S3Prefix\",\n",
    "                \"S3Uri.$\": \"$$.Execution.Input['train']['code_s3']\"\n",
    "              }\n",
    "            }\n",
    "          }\n",
    "        ],\n",
    "        \"OutputDataConfig\": {\n",
    "          \"S3OutputPath.$\": \"$$.Execution.Input['train']['output_data_uri']\"\n",
    "        },\n",
    "        \"ResourceConfig\": {\n",
    "          \"InstanceCount.$\": \"$$.Execution.Input['train']['InstanceCount']\",\n",
    "          \"InstanceType.$\": \"$$.Execution.Input['train']['InstanceType']\",\n",
    "          \"VolumeSizeInGB.$\": \"$$.Execution.Input['train']['VolumeSizeInGB']\"\n",
    "        },\n",
    "        \"StoppingCondition\": {\n",
    "          \"MaxRuntimeInSeconds\": 86400\n",
    "        },\n",
    "        \"ExperimentConfig\": {\n",
    "          \"ExperimentName.$\": \"$$.Execution.Input['experiment']\",\n",
    "          \"TrialName.$\": \"$$.Execution.Input['trial']\",\n",
    "          \"TrialComponentDisplayName\": \"train\"\n",
    "        },\n",
    "        \"RoleArn\": step_functions_role_arn,\n",
    "        \"TrainingJobName.$\": \"States.Format('{}-train', $$.Execution.Input['id'])\"\n",
    "      },\n",
    "      \"Next\": \"predict\"\n",
    "    },\n",
    "    \"predict\": {\n",
    "      \"Type\": \"Task\",\n",
    "      \"Resource\": \"arn:aws:states:::sagemaker:createProcessingJob.sync\",\n",
    "      \"Parameters\": {\n",
    "        \"ProcessingInputs\": [\n",
    "          {\n",
    "            \"InputName\": \"input_preprocess\",\n",
    "            \"AppManaged\": False,\n",
    "            \"S3Input\": {\n",
    "              \"S3Uri.$\": \"$$.Execution.Input['preprocess']['output_data_uri']\",\n",
    "              \"LocalPath\": \"/opt/ml/processing/input/preprocess\",\n",
    "              \"S3DataType\": \"S3Prefix\",\n",
    "              \"S3InputMode\": \"File\",\n",
    "              \"S3DataDistributionType\": \"FullyReplicated\",\n",
    "              \"S3CompressionType\": \"None\"\n",
    "            }\n",
    "          },\n",
    "          {\n",
    "            \"InputName\": \"input_train\",\n",
    "            \"AppManaged\": False,\n",
    "            \"S3Input\": {\n",
    "              \"S3Uri.$\": \"$.ModelArtifacts.S3ModelArtifacts\",\n",
    "              \"LocalPath\": \"/opt/ml/processing/input/train\",\n",
    "              \"S3DataType\": \"S3Prefix\",\n",
    "              \"S3InputMode\": \"File\",\n",
    "              \"S3DataDistributionType\": \"FullyReplicated\",\n",
    "              \"S3CompressionType\": \"None\"\n",
    "            }\n",
    "          },\n",
    "          {\n",
    "            \"InputName\": \"code\",\n",
    "            \"AppManaged\": False,\n",
    "            \"S3Input\": {\n",
    "              \"S3Uri.$\": \"$$.Execution.Input['predict']['code_s3']\",\n",
    "              \"LocalPath\": \"/opt/ml/processing/input/code\",\n",
    "              \"S3DataType\": \"S3Prefix\",\n",
    "              \"S3InputMode\": \"File\",\n",
    "              \"S3DataDistributionType\": \"FullyReplicated\",\n",
    "              \"S3CompressionType\": \"None\"\n",
    "            }\n",
    "          }\n",
    "        ],\n",
    "        \"ProcessingOutputConfig\": {\n",
    "          \"Outputs\": [\n",
    "            {\n",
    "              \"OutputName\": \"output\",\n",
    "              \"AppManaged\": False,\n",
    "              \"S3Output\": {\n",
    "                \"S3Uri.$\": \"$$.Execution.Input['predict']['output_data_uri']\",\n",
    "                \"LocalPath\": \"/opt/ml/processing/output\",\n",
    "                \"S3UploadMode\": \"EndOfJob\"\n",
    "              }\n",
    "            }\n",
    "          ]\n",
    "        },\n",
    "        \"AppSpecification\": {\n",
    "          \"ImageUri.$\": \"$$.Execution.Input['predict']['ImageUri']\",\n",
    "          \"ContainerArguments.$\": \"$$.Execution.Input['predict']['args']\",\n",
    "          \"ContainerEntrypoint.$\": \"States.Array('python3', $$.Execution.Input['predict']['ContainerEntrypoint'])\"\n",
    "        },\n",
    "        \"ProcessingResources\": {\n",
    "          \"ClusterConfig\": {\n",
    "            \"InstanceCount.$\": \"$$.Execution.Input['predict']['InstanceCount']\",\n",
    "            \"InstanceType.$\": \"$$.Execution.Input['predict']['InstanceType']\",\n",
    "            \"VolumeSizeInGB.$\": \"$$.Execution.Input['predict']['VolumeSizeInGB']\"\n",
    "          }\n",
    "        },\n",
    "        \"RoleArn\": step_functions_role_arn,\n",
    "        \"ProcessingJobName.$\": \"States.Format('{}-predict', $$.Execution.Input['id'])\"\n",
    "      },\n",
    "      \"Next\": \"evaluate\"\n",
    "    },\n",
    "    \"evaluate\": {\n",
    "      \"Type\": \"Task\",\n",
    "      \"Resource\": \"arn:aws:states:::sagemaker:createTrainingJob.sync\",\n",
    "      \"Parameters\": {\n",
    "        \"AlgorithmSpecification\": {\n",
    "          \"MetricDefinitions\": [\n",
    "            {\n",
    "              \"Name\": \"test:accuracy\",\n",
    "              \"Regex\": \".*?accuracy: (0.\\\\d+).*?\"\n",
    "            },\n",
    "            {\n",
    "              \"Name\": \"test:roc_auc \",\n",
    "              \"Regex\": \".*?roc_auc: (0.\\\\d+).*?\"\n",
    "            }\n",
    "          ],\n",
    "          \"TrainingImage.$\": \"$$.Execution.Input['evaluate']['ImageUri']\",\n",
    "          \"TrainingInputMode\": \"File\"\n",
    "        },\n",
    "        \"HyperParameters\": {\n",
    "          \"sagemaker_program.$\": \"States.Format('/opt/ml/input/data/evaluate_code/{}', $$.Execution.Input['evaluate']['code'])\"\n",
    "        },\n",
    "        \"InputDataConfig\": [\n",
    "          {\n",
    "            \"ChannelName\": \"preprocess\",\n",
    "            \"ContentType\": \"text/csv\",\n",
    "            \"DataSource\": {\n",
    "              \"S3DataSource\": {\n",
    "                \"S3DataDistributionType\": \"FullyReplicated\",\n",
    "                \"S3DataType\": \"S3Prefix\",\n",
    "                \"S3Uri.$\": \"$$.Execution.Input['preprocess']['output_data_uri']\"\n",
    "              }\n",
    "            }\n",
    "          },\n",
    "          {\n",
    "            \"ChannelName\": \"predict\",\n",
    "            \"ContentType\": \"text/csv\",\n",
    "            \"DataSource\": {\n",
    "              \"S3DataSource\": {\n",
    "                \"S3DataDistributionType\": \"FullyReplicated\",\n",
    "                \"S3DataType\": \"S3Prefix\",\n",
    "                \"S3Uri.$\": \"$$.Execution.Input['predict']['output_data_uri']\"\n",
    "              }\n",
    "            }\n",
    "          },\n",
    "          {\n",
    "            \"ChannelName\": \"evaluate_code\",\n",
    "            \"ContentType\": \"text/csv\",\n",
    "            \"DataSource\": {\n",
    "              \"S3DataSource\": {\n",
    "                \"S3DataDistributionType\": \"FullyReplicated\",\n",
    "                \"S3DataType\": \"S3Prefix\",\n",
    "                \"S3Uri.$\": \"$$.Execution.Input['evaluate']['code_s3']\"\n",
    "              }\n",
    "            }\n",
    "          }\n",
    "        ],\n",
    "        \"OutputDataConfig\": {\n",
    "          \"S3OutputPath.$\": \"$$.Execution.Input['evaluate']['output_data_uri']\"\n",
    "        },\n",
    "        \"ResourceConfig\": {\n",
    "          \"InstanceCount.$\": \"$$.Execution.Input['evaluate']['InstanceCount']\",\n",
    "          \"InstanceType.$\": \"$$.Execution.Input['evaluate']['InstanceType']\",\n",
    "          \"VolumeSizeInGB.$\": \"$$.Execution.Input['evaluate']['VolumeSizeInGB']\"\n",
    "        },\n",
    "        \"StoppingCondition\": {\n",
    "          \"MaxRuntimeInSeconds\": 86400\n",
    "        },\n",
    "        \"ExperimentConfig\": {\n",
    "          \"ExperimentName.$\": \"$$.Execution.Input['experiment']\",\n",
    "          \"TrialName.$\": \"$$.Execution.Input['trial']\",\n",
    "          \"TrialComponentDisplayName\": \"evaluate\"\n",
    "        },\n",
    "        \"RoleArn\": step_functions_role_arn,\n",
    "        \"TrainingJobName.$\": \"States.Format('{}-evaluate', $$.Execution.Input['id'])\"\n",
    "      },\n",
    "      \"End\": True\n",
    "    }\n",
    "  }\n",
    "}"
   ]
  },
  {
   "cell_type": "code",
   "execution_count": null,
   "metadata": {},
   "outputs": [],
   "source": [
    "### jsonファイル作成\n",
    "with open('state_definition.json', mode='wt', encoding='utf-8') as file:\n",
    "    json.dump(state_definition, file, ensure_ascii=False, indent=4)"
   ]
  },
  {
   "cell_type": "markdown",
   "metadata": {},
   "source": [
    "### 5-3. StepFunctionsの実験パイプラインを構築\n",
    "(注意)ロール作成後即座に実行すると、作成が間に合わずエラーになる場合がある。その場合少し待って再度実行する"
   ]
  },
  {
   "cell_type": "code",
   "execution_count": null,
   "metadata": {},
   "outputs": [],
   "source": [
    "import json\n",
    "stepfunctions = boto3.client('stepfunctions')\n",
    "\n",
    "stepfunctions.create_state_machine(\n",
    "    name='exp-preprocess-train-predict-evaluate2',\n",
    "    definition=open(\"state_definition.json\").read(),\n",
    "    roleArn=step_functions_role_arn\n",
    ")"
   ]
  },
  {
   "cell_type": "markdown",
   "metadata": {},
   "source": [
    "以上で、MLOpsエンジニアによって実験パイプラインが構築されました。\n",
    "データサイエンティストはこの実験パイプラインを利用して、実験環境であるコンテナやハードウェアであるインスタンスタイプを指定して、実験の試行錯誤を行うことができます。\n",
    "次のノートブックでは、ノートブックから.pyファイルへのモジュール化を行います。"
   ]
  }
 ],
 "metadata": {
  "instance_type": "ml.t3.medium",
  "kernelspec": {
   "display_name": "Python 3 (Data Science)",
   "language": "python",
   "name": "python3__SAGEMAKER_INTERNAL__arn:aws:sagemaker:ap-northeast-1:102112518831:image/datascience-1.0"
  },
  "language_info": {
   "codemirror_mode": {
    "name": "ipython",
    "version": 3
   },
   "file_extension": ".py",
   "mimetype": "text/x-python",
   "name": "python",
   "nbconvert_exporter": "python",
   "pygments_lexer": "ipython3",
   "version": "3.7.10"
  }
 },
 "nbformat": 4,
 "nbformat_minor": 5
}
