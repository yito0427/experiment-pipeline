{
 "cells": [
  {
   "cell_type": "markdown",
   "metadata": {},
   "source": [
    "# SageMaker Experimentsを最小構成で実行する\n",
    "\n",
    "* Amazon SageMaker Experiments Python SDK doc\n",
    "* https://sagemaker-experiments.readthedocs.io/en/latest/#\n",
    "\n",
    "* SageMaker Experiments Python SDK\n",
    "* https://github.com/aws/sagemaker-experiments\n",
    "\n",
    "* GitHub samples\n",
    "* https://github.com/aws/amazon-sagemaker-examples/tree/main/sagemaker-experiments\n",
    "\n",
    "* Developer Guide\n",
    "* https://docs.aws.amazon.com/sagemaker/latest/dg/experiments.html"
   ]
  },
  {
   "cell_type": "markdown",
   "metadata": {},
   "source": [
    "SageMaker Studio の Python 3(PyTorch 1.10 Python 3.8 CPU Optimized)で動作確認"
   ]
  },
  {
   "cell_type": "code",
   "execution_count": null,
   "metadata": {},
   "outputs": [],
   "source": [
    "!pip install ipywidgets widgetsnbextension # studioの場合は必要。要カーネル再起動"
   ]
  },
  {
   "cell_type": "markdown",
   "metadata": {},
   "source": [
    "* torch / torchvision : 1.11.0 / 0.5.0 -> NG\n",
    "* torch / torchvision : 1.10.0 / 0.5.0 -> NG\n",
    "* torch / torchvision : 1.5.0 / 0.5.0 -> OK\n",
    "* torch / torchvision : 1.7.0 / 0.5.0 -> OK\n",
    "* torch / torchvision : 1.9.0 / 0.10.0 -> NG\n",
    "* torch / torchvision : 1.10.2 / 0.11.3 -> NG\n",
    "* torch / torchvision : 1.9.1 / 0.10.1 -> NG\n",
    "* torch / torchvision : 1.8.0 / 0.9.0 -> OK"
   ]
  },
  {
   "cell_type": "code",
   "execution_count": null,
   "metadata": {},
   "outputs": [],
   "source": [
    "!pip install -U torch==1.8.0 # 1.4.0で動作確認済み # 1.11.0 NG"
   ]
  },
  {
   "cell_type": "code",
   "execution_count": null,
   "metadata": {},
   "outputs": [],
   "source": [
    "!pip install torchvision==0.9.0 # 0.5.0で動作確認済み"
   ]
  },
  {
   "cell_type": "code",
   "execution_count": null,
   "metadata": {},
   "outputs": [],
   "source": [
    "!pip freeze | grep torch"
   ]
  },
  {
   "cell_type": "code",
   "execution_count": null,
   "metadata": {},
   "outputs": [],
   "source": [
    "from torchvision.datasets import MNIST\n",
    "from torchvision import transforms\n",
    "\n",
    "MNIST.mirrors = [\"https://sagemaker-sample-files.s3.amazonaws.com/datasets/image/MNIST/\"]\n",
    "\n",
    "MNIST(\n",
    "    'data',\n",
    "    download=True,\n",
    "    transform=transforms.Compose(\n",
    "        [transforms.ToTensor(), transforms.Normalize((0.1307,), (0.3081,))]\n",
    "    )\n",
    ")"
   ]
  },
  {
   "cell_type": "code",
   "execution_count": null,
   "metadata": {},
   "outputs": [],
   "source": [
    "import sagemaker\n",
    "\n",
    "sagemaker_session = sagemaker.Session()\n",
    "\n",
    "bucket = sagemaker_session.default_bucket()\n",
    "prefix = 'sagemaker/DEMO-pytorch-mnist-wandb-studio'\n",
    "\n",
    "role = sagemaker.get_execution_role()"
   ]
  },
  {
   "cell_type": "code",
   "execution_count": null,
   "metadata": {},
   "outputs": [],
   "source": [
    "sagemaker.__version__"
   ]
  },
  {
   "cell_type": "code",
   "execution_count": null,
   "metadata": {},
   "outputs": [],
   "source": [
    "inputs = sagemaker_session.upload_data(path='data', bucket=bucket, key_prefix=prefix)\n",
    "print('input spec (in this case, just an S3 path): {}'.format(inputs))"
   ]
  },
  {
   "cell_type": "code",
   "execution_count": null,
   "metadata": {},
   "outputs": [],
   "source": [
    "inputs"
   ]
  },
  {
   "cell_type": "code",
   "execution_count": null,
   "metadata": {},
   "outputs": [],
   "source": [
    "!pygmentize src/mnist-experiments-tracker.py"
   ]
  },
  {
   "cell_type": "markdown",
   "metadata": {},
   "source": [
    "### estimatorを宣言"
   ]
  },
  {
   "cell_type": "code",
   "execution_count": null,
   "metadata": {},
   "outputs": [],
   "source": [
    "from sagemaker.pytorch import PyTorch\n",
    "\n",
    "estimator = PyTorch(entry_point='mnist-experiments-tracker.py',\n",
    "                    source_dir=\"src\",\n",
    "                    role=role,\n",
    "                    py_version='py3',\n",
    "                    framework_version='1.8.0',\n",
    "                    instance_count=1,\n",
    "                    instance_type='ml.c5.2xlarge',\n",
    "                    hyperparameters={\n",
    "                        'epochs': 10,\n",
    "                        'backend': 'gloo'\n",
    "                    },\n",
    "                    metric_definitions=[\n",
    "                        {'Name': 'training/loss', 'Regex': 'Loss: (.*?)#015'},\n",
    "                        {'Name': 'testing/loss', 'Regex': 'Average loss: (.*?),'},\n",
    "                    ])"
   ]
  },
  {
   "cell_type": "markdown",
   "metadata": {},
   "source": [
    "## experiments, trisal, trial_component, trackerを宣言"
   ]
  },
  {
   "cell_type": "code",
   "execution_count": null,
   "metadata": {},
   "outputs": [],
   "source": [
    "from smexperiments import experiment, tracker\n",
    "\n",
    "my_experiment = experiment.Experiment.create(experiment_name='myExperiment')\n",
    "my_trial = my_experiment.create_trial(trial_name='job001')"
   ]
  },
  {
   "cell_type": "code",
   "execution_count": null,
   "metadata": {},
   "outputs": [],
   "source": [
    "# use `with` statement to ensure `my_tracker.close()` is called\n",
    "with tracker.Tracker.create(display_name='training') as my_tracker:\n",
    "    my_tracker.log_input(name=\"input-dataset-dir\", media_type=\"s3/uri\", value=inputs)"
   ]
  },
  {
   "cell_type": "markdown",
   "metadata": {},
   "source": [
    "### 学習実施時に、作成したコンポーネントを指定"
   ]
  },
  {
   "cell_type": "code",
   "execution_count": null,
   "metadata": {},
   "outputs": [],
   "source": [
    "# 確認\n",
    "my_trial.trial_name"
   ]
  },
  {
   "cell_type": "code",
   "execution_count": null,
   "metadata": {},
   "outputs": [],
   "source": [
    "# 確認\n",
    "my_tracker.trial_component.display_name"
   ]
  },
  {
   "cell_type": "code",
   "execution_count": null,
   "metadata": {},
   "outputs": [],
   "source": [
    "estimator.fit({'training': inputs},\n",
    "    # trialの情報を指定\n",
    "    experiment_config={\n",
    "        #\"ExperimentName\": my_experiment.experiment_name,\n",
    "        \"TrialName\": my_trial.trial_name,\n",
    "        \"TrialComponentDisplayName\": my_tracker.trial_component.display_name,\n",
    "    })"
   ]
  },
  {
   "cell_type": "code",
   "execution_count": null,
   "metadata": {},
   "outputs": [],
   "source": []
  }
 ],
 "metadata": {
  "instance_type": "ml.t3.medium",
  "kernelspec": {
   "display_name": "Python 3 (PyTorch 1.10 Python 3.8 CPU Optimized)",
   "language": "python",
   "name": "python3__SAGEMAKER_INTERNAL__arn:aws:sagemaker:ap-northeast-1:102112518831:image/pytorch-1.10-cpu-py38"
  },
  "language_info": {
   "codemirror_mode": {
    "name": "ipython",
    "version": 3
   },
   "file_extension": ".py",
   "mimetype": "text/x-python",
   "name": "python",
   "nbconvert_exporter": "python",
   "pygments_lexer": "ipython3",
   "version": "3.8.10"
  }
 },
 "nbformat": 4,
 "nbformat_minor": 4
}
