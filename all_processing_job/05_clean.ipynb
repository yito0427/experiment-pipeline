{
 "cells": [
  {
   "cell_type": "markdown",
   "metadata": {},
   "source": [
    "# 5.後片付け\n",
    "このセッションで利用したリソースの削除を行います。"
   ]
  },
  {
   "cell_type": "code",
   "execution_count": null,
   "metadata": {},
   "outputs": [],
   "source": [
    "import boto3"
   ]
  },
  {
   "cell_type": "code",
   "execution_count": null,
   "metadata": {},
   "outputs": [],
   "source": [
    "import sagemaker\n",
    "from sagemaker import get_execution_role\n",
    "\n",
    "sagemaker_session = sagemaker.Session()\n",
    "\n",
    "role = get_execution_role()\n",
    "region = sagemaker_session.boto_region_name\n",
    "account_id = boto3.client('sts').get_caller_identity().get('Account')"
   ]
  },
  {
   "cell_type": "code",
   "execution_count": null,
   "metadata": {},
   "outputs": [],
   "source": [
    "print(role)\n",
    "print(region)\n",
    "print(account_id)"
   ]
  },
  {
   "cell_type": "markdown",
   "metadata": {},
   "source": [
    "## StepFunctions\n",
    "https://boto3.amazonaws.com/v1/documentation/api/latest/reference/services/stepfunctions.html#SFN.Client.delete_state_machine"
   ]
  },
  {
   "cell_type": "code",
   "execution_count": null,
   "metadata": {},
   "outputs": [],
   "source": [
    "stepfunctions = boto3.client('stepfunctions')"
   ]
  },
  {
   "cell_type": "code",
   "execution_count": null,
   "metadata": {},
   "outputs": [],
   "source": [
    "stepfunctions.list_state_machines(\n",
    "    maxResults=123,\n",
    ")"
   ]
  },
  {
   "cell_type": "code",
   "execution_count": null,
   "metadata": {},
   "outputs": [],
   "source": [
    "stepfunctions.delete_state_machine(\n",
    "    stateMachineArn=f'arn:aws:states:{region}:{account_id}:stateMachine:exp-preprocess-train-predict-evaluate'\n",
    ")"
   ]
  },
  {
   "cell_type": "markdown",
   "metadata": {},
   "source": [
    "## Lambda\n",
    "\n",
    "https://boto3.amazonaws.com/v1/documentation/api/latest/reference/services/lambda.html#Lambda.Client.delete_function"
   ]
  },
  {
   "cell_type": "code",
   "execution_count": null,
   "metadata": {},
   "outputs": [],
   "source": [
    "boto3lambda = boto3.client('lambda')"
   ]
  },
  {
   "cell_type": "code",
   "execution_count": null,
   "metadata": {},
   "outputs": [],
   "source": [
    "response = boto3lambda.list_functions(\n",
    "    #MasterRegion='string',\n",
    "    #FunctionVersion='ALL',\n",
    "    #Marker='string',\n",
    "    MaxItems=123\n",
    ")"
   ]
  },
  {
   "cell_type": "code",
   "execution_count": null,
   "metadata": {},
   "outputs": [],
   "source": [
    "boto3lambda.delete_function(\n",
    "    FunctionName='lambda_pipeline_dispatcher',\n",
    "    #Qualifier='string'\n",
    ")"
   ]
  },
  {
   "cell_type": "markdown",
   "metadata": {},
   "source": [
    "## CodeCommit\n",
    "https://boto3.amazonaws.com/v1/documentation/api/latest/reference/services/codecommit.html#CodeCommit.Client.delete_repository"
   ]
  },
  {
   "cell_type": "code",
   "execution_count": null,
   "metadata": {},
   "outputs": [],
   "source": [
    "codecommit = boto3.client('codecommit')"
   ]
  },
  {
   "cell_type": "code",
   "execution_count": null,
   "metadata": {},
   "outputs": [],
   "source": [
    "codecommit.list_repositories(\n",
    "    #nextToken='string',\n",
    "    #sortBy='repositoryName'|'lastModifiedDate',\n",
    "    #order='ascending'|'descending'\n",
    ")"
   ]
  },
  {
   "cell_type": "code",
   "execution_count": null,
   "metadata": {},
   "outputs": [],
   "source": [
    "codecommit.delete_repository(\n",
    "    repositoryName='demo-exp-project1'\n",
    ")"
   ]
  },
  {
   "cell_type": "markdown",
   "metadata": {},
   "source": [
    "## S3バケット\n",
    "https://www.kabegiwablog.com/entry/2019/11/10/142007\n",
    "\n",
    "SageMaker ノートブックインスタンスの実行ロールにS3Fullが必要"
   ]
  },
  {
   "cell_type": "code",
   "execution_count": null,
   "metadata": {},
   "outputs": [],
   "source": [
    "project_name = 'project1'\n",
    "Bucket=f'demo-exp-pipeline-{project_name}',\n",
    "\n",
    "\n",
    "s3 = boto3.resource('s3')\n",
    "bucket = s3.Bucket(f'demo-exp-pipeline-{project_name}')"
   ]
  },
  {
   "cell_type": "code",
   "execution_count": null,
   "metadata": {},
   "outputs": [],
   "source": [
    "Bucket"
   ]
  },
  {
   "cell_type": "code",
   "execution_count": null,
   "metadata": {},
   "outputs": [],
   "source": [
    "### オブジェクト削除\n",
    "s3_objects = list(bucket.objects.all())\n",
    "for s3_object in s3_objects:\n",
    "    s3_object.delete()"
   ]
  },
  {
   "cell_type": "code",
   "execution_count": null,
   "metadata": {},
   "outputs": [],
   "source": [
    "### オブジェクトバージョン削除\n",
    "s3_object_versions = list(bucket.object_versions.all())\n",
    "for s3_object_version in s3_object_versions:\n",
    "    s3_object_version.delete()"
   ]
  },
  {
   "cell_type": "code",
   "execution_count": null,
   "metadata": {},
   "outputs": [],
   "source": [
    "### バケット削除\n",
    "bucket.delete()"
   ]
  },
  {
   "cell_type": "markdown",
   "metadata": {},
   "source": [
    "## IAMロール\n",
    "lambdaとSFnの\n",
    "* Roleの削除\n",
    "https://boto3.amazonaws.com/v1/documentation/api/latest/reference/services/iam.html#IAM.Client.delete_role\n",
    "\n",
    "* Policyの削除\n",
    "https://boto3.amazonaws.com/v1/documentation/api/latest/reference/services/iam.html#IAM.Client.delete_policy"
   ]
  },
  {
   "cell_type": "code",
   "execution_count": null,
   "metadata": {},
   "outputs": [],
   "source": [
    "iam_client = boto3.client('iam')"
   ]
  },
  {
   "cell_type": "markdown",
   "metadata": {},
   "source": [
    "### Lambdaに対して"
   ]
  },
  {
   "cell_type": "markdown",
   "metadata": {},
   "source": [
    "https://www.kabegiwablog.com/entry/2019/10/12/073928"
   ]
  },
  {
   "cell_type": "code",
   "execution_count": null,
   "metadata": {},
   "outputs": [],
   "source": [
    "### ロールの削除\n",
    "role_name = 'demo-AWSLambda-ExperimentPipelineDispatcher-Role'\n",
    "\n",
    "session = boto3.Session()\n",
    "iam = session.resource('iam')\n",
    "\n",
    "role = iam.Role(role_name)\n",
    "\n",
    "policies = list(role.attached_policies.all())\n",
    "for policy in policies:\n",
    "    policy.detach_role(RoleName=role_name)\n",
    "\n",
    "instance_profiles = list(role.instance_profiles.all())\n",
    "for instance_profile in instance_profiles:\n",
    "    instance_profile.remove_role(RoleName=role_name)\n",
    "    instance_profile.delete()\n",
    "\n",
    "role.delete()"
   ]
  },
  {
   "cell_type": "code",
   "execution_count": null,
   "metadata": {},
   "outputs": [],
   "source": [
    "### policy削除\n",
    "response = iam_client.delete_policy(\n",
    "    PolicyArn=f'arn:aws:iam::{account_id}:policy/demo-AWSLambda-ExperimentPipelineDispatcher-Policy'\n",
    ")"
   ]
  },
  {
   "cell_type": "markdown",
   "metadata": {},
   "source": [
    "### SFnに対して"
   ]
  },
  {
   "cell_type": "code",
   "execution_count": null,
   "metadata": {},
   "outputs": [],
   "source": [
    "### ロールの削除\n",
    "role_name = 'demo-StepFunctions-ExperimentPipeline-Role'\n",
    "\n",
    "session = boto3.Session()\n",
    "iam = session.resource('iam')\n",
    "\n",
    "role = iam.Role(role_name)\n",
    "\n",
    "policies = list(role.attached_policies.all())\n",
    "for policy in policies:\n",
    "    policy.detach_role(RoleName=role_name)\n",
    "\n",
    "instance_profiles = list(role.instance_profiles.all())\n",
    "for instance_profile in instance_profiles:\n",
    "    instance_profile.remove_role(RoleName=role_name)\n",
    "    instance_profile.delete()\n",
    "\n",
    "role.delete()"
   ]
  },
  {
   "cell_type": "code",
   "execution_count": null,
   "metadata": {},
   "outputs": [],
   "source": [
    "### policy削除\n",
    "response = iam_client.delete_policy(\n",
    "    PolicyArn=f'arn:aws:iam::{account_id}:policy/demo-StepFunctions-ExperimentPipeline-Policy'\n",
    ")"
   ]
  },
  {
   "cell_type": "markdown",
   "metadata": {},
   "source": [
    "## Jupyterノートブック実行環境は、それぞれ適切な方法で終了してください。\n",
    "* SageMakerノートブックインスタンスの場合は、インスタンスをstopしてください。\n",
    "* SageMaker Studioの場合は、アプリケーションをstopしてください。"
   ]
  }
 ],
 "metadata": {
  "instance_type": "ml.t3.medium",
  "kernelspec": {
   "display_name": "Python 3 (Data Science)",
   "language": "python",
   "name": "python3__SAGEMAKER_INTERNAL__arn:aws:sagemaker:us-east-1:081325390199:image/datascience-1.0"
  },
  "language_info": {
   "codemirror_mode": {
    "name": "ipython",
    "version": 3
   },
   "file_extension": ".py",
   "mimetype": "text/x-python",
   "name": "python",
   "nbconvert_exporter": "python",
   "pygments_lexer": "ipython3",
   "version": "3.7.10"
  }
 },
 "nbformat": 4,
 "nbformat_minor": 5
}
