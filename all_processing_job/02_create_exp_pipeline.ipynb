{
 "cells": [
  {
   "cell_type": "markdown",
   "metadata": {},
   "source": [
    "# 2. MLOpsエンジニアによる実験パイプラインの構築\n",
    "本ノートブックでは、データサイエンティストの実験を支援する実験パイプラインを構築します。\n",
    "この実験パイプラインの構築は、MLOpsエンジニアによって実行されます。\n",
    "AWSマネジメントコンソールから実施することができますが、今回はノートブック上でboto3を用いて構築を行います。"
   ]
  },
  {
   "cell_type": "markdown",
   "metadata": {},
   "source": [
    "### 参考：MLOpsエンジニア\n",
    "\n",
    "https://docs.aws.amazon.com/wellarchitected/latest/machine-learning-lens/mloe-02.html\n",
    "\n",
    "MLOps engineer — Builds and manages automation pipelines to operationalize the ML platform and ML pipelines for fully/partially automated CI/CD pipelines. These pipelines automate building Docker images, model training, and model deployment. MLOps engineers also have a role in overall platform governance such as data / model lineage, as well as infrastructure and model monitoring.\n",
    "\n",
    "MLOpsエンジニア - 完全/部分的に自動化されたCI/CDパイプラインのためのMLプラットフォームとMLパイプラインを運用するための自動化パイプラインを構築し管理する。これらのパイプラインは、Dockerイメージの構築、モデルのトレーニング、およびモデルのデプロイを自動化します。また、MLOpsエンジニアは、データ/モデルのリネージ、インフラストラクチャやモデルのモニタリングなど、プラットフォーム全体のガバナンスを担う役割も担っています。"
   ]
  },
  {
   "cell_type": "markdown",
   "metadata": {},
   "source": [
    "## 0. 事前準備（手動）\n",
    "\n",
    "構築作業のために、このノートブックを実行しているIAMroleに対して、いくつか権限が必要になります。\n",
    "これらの権限を付与するために、手動でIAMfullAccessを付与してください。（実際の運用の際は最小権限を考慮ください）\n",
    "\n",
    "\n",
    "* CodeCommitのCreate\n",
    "* LambdaのCreate, SFnの実行\n",
    "* SFnのCreate\n",
    "* Lambda用、SFn用のIAMを作成するための権限\n",
    "* S3バケットのCreate"
   ]
  },
  {
   "cell_type": "markdown",
   "metadata": {},
   "source": [
    "https://boto3.amazonaws.com/v1/documentation/api/latest/reference/services/iam.html#IAM.Client.attach_role_policy"
   ]
  },
  {
   "cell_type": "code",
   "execution_count": null,
   "metadata": {},
   "outputs": [],
   "source": [
    "import boto3\n",
    "import sagemaker\n",
    "from sagemaker import get_execution_role\n",
    "\n",
    "sagemaker_session = sagemaker.Session()\n",
    "\n",
    "role = get_execution_role()\n",
    "region = sagemaker_session.boto_region_name\n",
    "account_id = boto3.client('sts').get_caller_identity().get('Account')"
   ]
  },
  {
   "cell_type": "code",
   "execution_count": null,
   "metadata": {},
   "outputs": [],
   "source": [
    "print(role)\n",
    "print(region)\n",
    "print(account_id)"
   ]
  },
  {
   "cell_type": "code",
   "execution_count": null,
   "metadata": {},
   "outputs": [],
   "source": [
    "role.split('/')[-1]"
   ]
  },
  {
   "cell_type": "code",
   "execution_count": null,
   "metadata": {},
   "outputs": [],
   "source": [
    "iam = boto3.client('iam')\n",
    "\n",
    "response = iam.attach_role_policy(\n",
    "    RoleName=role.split('/')[-1],\n",
    "    PolicyArn='arn:aws:iam::aws:policy/AWSCodeCommitFullAccess'\n",
    ")"
   ]
  },
  {
   "cell_type": "code",
   "execution_count": null,
   "metadata": {},
   "outputs": [],
   "source": [
    "iam = boto3.client('iam')\n",
    "\n",
    "response = iam.attach_role_policy(\n",
    "    RoleName=role.split('/')[-1],\n",
    "    PolicyArn='arn:aws:iam::aws:policy/AWSLambda_FullAccess'\n",
    ")"
   ]
  },
  {
   "cell_type": "code",
   "execution_count": null,
   "metadata": {},
   "outputs": [],
   "source": [
    "iam = boto3.client('iam')\n",
    "\n",
    "response = iam.attach_role_policy(\n",
    "    RoleName=role.split('/')[-1],\n",
    "    PolicyArn='arn:aws:iam::aws:policy/AWSStepFunctionsFullAccess'\n",
    ")"
   ]
  },
  {
   "cell_type": "code",
   "execution_count": null,
   "metadata": {},
   "outputs": [],
   "source": [
    "iam = boto3.client('iam')\n",
    "\n",
    "response = iam.attach_role_policy(\n",
    "    RoleName=role.split('/')[-1],\n",
    "    PolicyArn='arn:aws:iam::aws:policy/AmazonS3FullAccess'\n",
    ")"
   ]
  },
  {
   "cell_type": "markdown",
   "metadata": {},
   "source": [
    "## 1. S3バケット作成、データ配置\n",
    "実験のデータを格納するためのs3バケットを格納します。\n",
    "このバケットは、LambdaがStepFunctionsにソースコードを連携するためにも利用します。"
   ]
  },
  {
   "cell_type": "code",
   "execution_count": null,
   "metadata": {},
   "outputs": [],
   "source": [
    "project_name = 'project1' ### [注意]バケット名がグローバルで一意になるようにしてください"
   ]
  },
  {
   "cell_type": "markdown",
   "metadata": {},
   "source": [
    "### 1-1. バケット作成\n",
    "https://boto3.amazonaws.com/v1/documentation/api/latest/reference/services/s3.html#S3.Bucket.create"
   ]
  },
  {
   "cell_type": "code",
   "execution_count": null,
   "metadata": {},
   "outputs": [],
   "source": [
    "s3 = boto3.resource('s3')\n",
    "\n",
    "bucket_name = f'demo-exp-pipeline-{project_name}'\n",
    "print(bucket_name)\n",
    "\n",
    "bucket = s3.Bucket(bucket_name)\n",
    "bucket.create(\n",
    "    CreateBucketConfiguration={\n",
    "        'LocationConstraint': region\n",
    "    })"
   ]
  },
  {
   "cell_type": "markdown",
   "metadata": {},
   "source": [
    "### 1-2. データ格納\n",
    "実験のインプットデータとなる census-income.csv をs3に格納します。"
   ]
  },
  {
   "cell_type": "code",
   "execution_count": null,
   "metadata": {},
   "outputs": [],
   "source": [
    "s3_client = boto3.client('s3')\n",
    "\n",
    "s3_client.put_object(Bucket=f'demo-exp-pipeline-{project_name}',\n",
    "    Key=\"dataset/census-income.csv\",\n",
    "    Body=open(\"./dataset/census-income.csv\").read(),)"
   ]
  },
  {
   "cell_type": "markdown",
   "metadata": {},
   "source": [
    "## 2.CodeCommitリポジトリの作成\n",
    "モジュール化されたソースコードを管理するためのリポジトリを作成します。\n",
    "機械学習プロジェクトごとにリポジトリを用意する想定です。"
   ]
  },
  {
   "cell_type": "code",
   "execution_count": null,
   "metadata": {},
   "outputs": [],
   "source": [
    "codecommit = boto3.client('codecommit')\n",
    "\n",
    "codecommit.create_repository(\n",
    "    repositoryName='demo-exp-project1',\n",
    "    repositoryDescription='実験パイプライン構築デモのリポジトリ',\n",
    "    tags={\n",
    "        'project1': 'team1'\n",
    "    }\n",
    ")"
   ]
  },
  {
   "cell_type": "markdown",
   "metadata": {},
   "source": [
    "## 3.AWS Lambdaの構築\n",
    "コードがpushされた時に、コンフィグファイル（experiment.yml）に指定されたパイプラインを起動するためのLambda関数を構築します。\n",
    "\n",
    "https://boto3.amazonaws.com/v1/documentation/api/latest/reference/services/lambda.html#Lambda.Client.create_function"
   ]
  },
  {
   "cell_type": "markdown",
   "metadata": {},
   "source": [
    "### 3-1. Lambdaの実行ロール作成"
   ]
  },
  {
   "cell_type": "code",
   "execution_count": null,
   "metadata": {},
   "outputs": [],
   "source": [
    "iam_client = boto3.client('iam')"
   ]
  },
  {
   "cell_type": "markdown",
   "metadata": {},
   "source": [
    "### ポリシー作成\n",
    "\n",
    "以下の権限を持つカスタムポリシーを作成します。\n",
    "* S3へのファイルアップロード\n",
    "* CodeCommitのファイル読み込み\n",
    "* StepFunctionsを起動\n",
    "* CloudWatch Logsへ記録"
   ]
  },
  {
   "cell_type": "code",
   "execution_count": null,
   "metadata": {},
   "outputs": [],
   "source": [
    "import json\n",
    "\n",
    "lambda_policy_name = 'demo-AWSLambda-ExperimentPipelineDispatcher-Policy'\n",
    "custom_policy ={\n",
    "    \"Version\": \"2012-10-17\",\n",
    "    \"Statement\": [\n",
    "        {\n",
    "            \"Effect\": \"Allow\",\n",
    "            \"Action\": [\n",
    "                \"s3:PutObject\",\n",
    "                \"codecommit:GetFile\",\n",
    "                \"codecommit:GetCommit\",\n",
    "                \"codecommit:GetDifferences\",\n",
    "                \"states:StartExecution\",\n",
    "                \"logs:CreateLogGroup\",\n",
    "                \"logs:CreateLogStream\",\n",
    "                \"logs:PutLogEvents\"\n",
    "            ],\n",
    "            \"Resource\": \"*\"\n",
    "        },\n",
    "    ]\n",
    "}\n",
    "\n",
    "response = iam_client.create_policy(\n",
    "    PolicyName=lambda_policy_name,\n",
    "    PolicyDocument=json.dumps(custom_policy),\n",
    ")\n",
    "\n",
    "lambda_policy_arn = response['Policy']['Arn']"
   ]
  },
  {
   "cell_type": "code",
   "execution_count": null,
   "metadata": {},
   "outputs": [],
   "source": [
    "lambda_policy_arn"
   ]
  },
  {
   "cell_type": "markdown",
   "metadata": {},
   "source": [
    "### ロール作成、カスタムポリシーのアタッチ"
   ]
  },
  {
   "cell_type": "code",
   "execution_count": null,
   "metadata": {},
   "outputs": [],
   "source": [
    "lambda_role_name = 'demo-AWSLambda-ExperimentPipelineDispatcher-Role'\n",
    "assume_role_policy = {\n",
    "      \"Version\": \"2012-10-17\",\n",
    "      \"Statement\": {\"Sid\": \"\",\n",
    "                    \"Effect\": \"Allow\",\n",
    "                    \"Principal\": {\"Service\": [\"lambda.amazonaws.com\"]                \n",
    "                                 },\n",
    "                    \"Action\": \"sts:AssumeRole\"\n",
    "                   },\n",
    "    }\n",
    "\n",
    "response = iam_client.create_role(\n",
    "    Path = '/service-role/',\n",
    "    RoleName = lambda_role_name,\n",
    "    AssumeRolePolicyDocument = json.dumps(assume_role_policy),\n",
    "    MaxSessionDuration=3600*12 # 12 hours\n",
    ")\n",
    "\n",
    "lambda_role_arn = response['Role']['Arn']\n",
    "\n",
    "response = iam_client.attach_role_policy(\n",
    "    RoleName=lambda_role_name,\n",
    "    PolicyArn=lambda_policy_arn\n",
    ")"
   ]
  },
  {
   "cell_type": "code",
   "execution_count": null,
   "metadata": {},
   "outputs": [],
   "source": [
    "lambda_role_arn"
   ]
  },
  {
   "cell_type": "markdown",
   "metadata": {},
   "source": [
    "### 3-2. Lambda関数作成のためのパッケージ準備"
   ]
  },
  {
   "cell_type": "markdown",
   "metadata": {},
   "source": [
    "### 既存パッケージの解凍"
   ]
  },
  {
   "cell_type": "code",
   "execution_count": null,
   "metadata": {},
   "outputs": [],
   "source": [
    "import shutil"
   ]
  },
  {
   "cell_type": "code",
   "execution_count": null,
   "metadata": {},
   "outputs": [],
   "source": [
    "shutil.unpack_archive(\"./lambda_pipeline_dispatcher.zip\", extract_dir='./lambda_pipeline_dispatcher')"
   ]
  },
  {
   "cell_type": "code",
   "execution_count": null,
   "metadata": {},
   "outputs": [],
   "source": [
    "%%writefile ./lambda_pipeline_dispatcher/lambda_function.py\n",
    "\n",
    "import json\n",
    "import boto3\n",
    "\n",
    "import yaml ### use lambda layer\n",
    "\n",
    "codecommit = boto3.client('codecommit')\n",
    "BUCKET_NAME = 'demo-exp-pipeline-project1'\n",
    "\n",
    "def lambda_handler(event, context):\n",
    "    print(event)\n",
    "    commit_id_trigger = event['Records'][0]['codecommit']['references'][0]['commit']\n",
    "    repository_name = event['Records'][0]['eventSourceARN'].split(':')[5]\n",
    "    user_name = event['Records'][0]['userIdentityARN'].split('/')[1]\n",
    "    event_time = event['Records'][0]['eventTime']\n",
    "    \n",
    "    print(repository_name)\n",
    "    res = codecommit.get_commit(\n",
    "        repositoryName=repository_name,\n",
    "        commitId=commit_id_trigger\n",
    "    )\n",
    "    parent_commit_id = res['commit']['parents'][0]\n",
    "\n",
    "    res2 = codecommit.get_differences(\n",
    "        repositoryName=repository_name,\n",
    "        beforeCommitSpecifier=parent_commit_id,\n",
    "        afterCommitSpecifier=commit_id_trigger,\n",
    "    )\n",
    "    print(res2)\n",
    "\n",
    "    commited_filename = res2['differences'][0]['afterBlob']['path']\n",
    "    \n",
    "    ### experiment.ymlのpushではなかった場合、終了\n",
    "    if commited_filename != 'experiment.yml':\n",
    "        print('=====not experiment.yml====')\n",
    "        return {\n",
    "            'statusCode': 200,\n",
    "            'body': json.dumps('Pipeline was not launched due to no renewal of experiment.yml')\n",
    "        }\n",
    "    \n",
    "    print('===== experiment.yml pushued!! ====')\n",
    "    res = codecommit.get_file(\n",
    "        repositoryName=repository_name,\n",
    "        filePath='experiment.yml'\n",
    "    )\n",
    "    \n",
    "    # ymlをパース\n",
    "    param = yaml.safe_load(res['fileContent'])\n",
    "    \n",
    "    # コードはS3にコピーする\n",
    "    s3 = boto3.client('s3')\n",
    "    \n",
    "    ### experiment.ymlをS3にファイルをアップロード\n",
    "    s3.put_object(Bucket=BUCKET_NAME,\n",
    "        Key=repository_name + \"_\" + user_name + \"_\" + event_time + \"_\" + commit_id_trigger + \"/experiment.yml\",\n",
    "        Body=res['fileContent'])\n",
    "    \n",
    "    for key in param:\n",
    "        if 'code' in param[key]:\n",
    "            code_file = codecommit.get_file(\n",
    "                repositoryName=repository_name,\n",
    "                filePath=param[key]['code']\n",
    "            )\n",
    "            ### S3にファイルをアップロード\n",
    "            s3.put_object(Bucket=BUCKET_NAME,\n",
    "                #Key=repository_name + \"_\" + commit_id_trigger + \"/\" + param[key]['code'],\n",
    "                Key=repository_name + \"_\" + user_name + \"_\" + event_time + \"_\" + commit_id_trigger + \"/\" + param[key]['code'],\n",
    "                Body=code_file['fileContent'])\n",
    "            ### paramのcodeファイルパスをS3 URIに書き換え\n",
    "            param[key]['code'] = \"s3://\" + BUCKET_NAME + \"/\" + repository_name + \"_\" + user_name + \"_\" + event_time + \"_\" + commit_id_trigger + \"/\" + param[key]['code']\n",
    "            param[key]['ContainerEntrypoint'] = \"/opt/ml/processing/input/code/\" + param[key]['code'].split('/')[-1]\n",
    "            param[key]['output_data_uri'] = \"s3://\" + BUCKET_NAME + \"/\" + repository_name + \"_\" + user_name + \"_\" + event_time + \"_\" + commit_id_trigger + \"/\" + key + \"/\"\n",
    "    \n",
    "    ### StepFunctions のパイプラインを起動\n",
    "    stepfunctions = boto3.client('stepfunctions')\n",
    "    param['id'] = commit_id_trigger\n",
    "    resp = stepfunctions.start_execution(\n",
    "            **{\n",
    "              'input': json.dumps(param),\n",
    "              'stateMachineArn': param['pipeline']['stateMachineArn']\n",
    "              }\n",
    "            )\n",
    "    print(resp)\n",
    "    return {\n",
    "        'statusCode': 200,\n",
    "        'body': json.dumps('end of lambda')\n",
    "    }\n"
   ]
  },
  {
   "cell_type": "markdown",
   "metadata": {},
   "source": [
    "作成・上書きした lambda_function.pyのバケット名を置換します"
   ]
  },
  {
   "cell_type": "code",
   "execution_count": null,
   "metadata": {},
   "outputs": [],
   "source": [
    "import sys\n",
    "\n",
    "!{sys.executable} -m pip install --upgrade pip\n",
    "!{sys.executable} -m pip install textfile"
   ]
  },
  {
   "cell_type": "code",
   "execution_count": null,
   "metadata": {},
   "outputs": [],
   "source": [
    "import textfile\n",
    " \n",
    "textfile.replace('./lambda_pipeline_dispatcher/lambda_function.py', 'inputyourbucketname', bucket_name)"
   ]
  },
  {
   "cell_type": "markdown",
   "metadata": {},
   "source": [
    "### zip化してパッケージを作成"
   ]
  },
  {
   "cell_type": "code",
   "execution_count": null,
   "metadata": {},
   "outputs": [],
   "source": [
    "shutil.make_archive('lambda_pipeline_dispatcher_modify', 'zip', root_dir='lambda_pipeline_dispatcher')"
   ]
  },
  {
   "cell_type": "markdown",
   "metadata": {},
   "source": [
    "### 3-3. Lambda関数を構築\n",
    "(注意)ロール作成後即座に実行すると、作成が間に合わずエラーになる場合がある。その場合少し待って再度実行する\n",
    "\n",
    "\n",
    "https://stackoverflow.com/questions/63040090/create-aws-lambda-function-using-boto3-python-code"
   ]
  },
  {
   "cell_type": "code",
   "execution_count": null,
   "metadata": {},
   "outputs": [],
   "source": [
    "lambda_client = boto3.client('lambda')\n",
    "\n",
    "lambda_client.create_function(\n",
    "    Code={\n",
    "        'ZipFile': open(\"lambda_pipeline_dispatcher_modify.zip\", 'rb').read()\n",
    "    },\n",
    "    Description='CodeCommitへのpushをトリガーに、SFnパイプラインを起動',\n",
    "    FunctionName='lambda_pipeline_dispatcher',\n",
    "    Handler='lambda_function.lambda_handler',\n",
    "    Publish=True,\n",
    "    Role=lambda_role_arn,\n",
    "    Runtime='python3.9',\n",
    ")"
   ]
  },
  {
   "cell_type": "markdown",
   "metadata": {},
   "source": [
    "## 4. LambdaとCodeCommitの連携\n",
    "CodeCommitのプロジェクト用リポジトリにコードがpushされた場合にLambdaが起動するように、LambdaとCodeCommitの連携をします。"
   ]
  },
  {
   "cell_type": "code",
   "execution_count": null,
   "metadata": {},
   "outputs": [],
   "source": [
    "codecommit.put_repository_triggers(\n",
    "    repositoryName='demo-exp-project1',\n",
    "    triggers=[\n",
    "        {\n",
    "            'name': 'lambda_pipeline-dispatcher',\n",
    "            'destinationArn': f'arn:aws:lambda:{region}:{account_id}:function:lambda_pipeline_dispatcher',\n",
    "            'branches': [\n",
    "                'main',\n",
    "            ],\n",
    "            'events': ['updateReference']\n",
    "        },\n",
    "    ]\n",
    ")"
   ]
  },
  {
   "cell_type": "code",
   "execution_count": null,
   "metadata": {},
   "outputs": [],
   "source": [
    "### Lambda側：トリガーの追加\n",
    "lambda_client.add_permission(\n",
    "    Action='lambda:InvokeFunction',\n",
    "    FunctionName=f'arn:aws:lambda:{region}:{account_id}:function:lambda_pipeline_dispatcher',\n",
    "    Principal='codecommit.amazonaws.com',\n",
    "    SourceAccount=f'{account_id}',\n",
    "    SourceArn=f'arn:aws:codecommit:{region}:{account_id}:demo-exp-project1',\n",
    "    StatementId='demo-exp-project1',\n",
    ")"
   ]
  },
  {
   "cell_type": "markdown",
   "metadata": {},
   "source": [
    "Lambda、CodeCommitのコンソール画面から、トリガーが設定されていることが確認できます。"
   ]
  },
  {
   "cell_type": "markdown",
   "metadata": {},
   "source": [
    "## 5.StepFunctionsのステートマシン作成\n",
    "今回は作成済みのstate machineをデプロイしますが、作成には Workflow Studio を利用するのもよいでしょう。\n",
    "\n",
    "https://aws.amazon.com/jp/blogs/news/new-aws-step-functions-workflow-studio-a-low-code-visual-tool-for-building-state-machines/"
   ]
  },
  {
   "cell_type": "markdown",
   "metadata": {},
   "source": [
    "### 5-1. ロールの作成と、カスタムポリシーアタッチ"
   ]
  },
  {
   "cell_type": "markdown",
   "metadata": {},
   "source": [
    "### ロール作成"
   ]
  },
  {
   "cell_type": "code",
   "execution_count": null,
   "metadata": {},
   "outputs": [],
   "source": [
    "step_functions_role_name = 'demo-StepFunctions-ExperimentPipeline-Role'\n",
    "\n",
    "assume_role_policy = {\n",
    "      \"Version\": \"2012-10-17\",\n",
    "      \"Statement\": {\"Sid\": \"\",\n",
    "                    \"Effect\": \"Allow\",\n",
    "                    \"Principal\": {\"Service\": [\"states.amazonaws.com\",\n",
    "                                              \"sagemaker.amazonaws.com\"\n",
    "                                             ]\n",
    "                                 },\n",
    "                    \"Action\": \"sts:AssumeRole\"\n",
    "                   }\n",
    "    }\n",
    "\n",
    "response = iam_client.create_role(\n",
    "    Path = '/service-role/',\n",
    "    RoleName = step_functions_role_name,\n",
    "    AssumeRolePolicyDocument = json.dumps(assume_role_policy),\n",
    "    MaxSessionDuration=3600*12 # 12 hours\n",
    ")\n",
    "\n",
    "step_functions_role_arn = response['Role']['Arn']"
   ]
  },
  {
   "cell_type": "code",
   "execution_count": null,
   "metadata": {},
   "outputs": [],
   "source": [
    "step_functions_role_arn"
   ]
  },
  {
   "cell_type": "markdown",
   "metadata": {},
   "source": [
    "### ポリシー作成\n",
    "\n",
    "以下の権限を持つカスタムポリシーを作成します。\n",
    "* StateMachineのアップデートのための、CloudWatchEvent権限\n",
    "* SageMakerのProcessingジョブ発行\n",
    "* S3からのファイル読み込み\n",
    "* CloudWatch Logsへ記録"
   ]
  },
  {
   "cell_type": "code",
   "execution_count": null,
   "metadata": {},
   "outputs": [],
   "source": [
    "import json\n",
    "\n",
    "step_functions_policy_name = 'demo-StepFunctions-ExperimentPipeline-Policy'\n",
    "custom_policy ={\n",
    "    \"Version\": \"2012-10-17\",\n",
    "    \"Statement\": [\n",
    "        {\n",
    "            \"Effect\": \"Allow\",\n",
    "            \"Action\": [\n",
    "                \"events:PutTargets\",\n",
    "                \"events:DescribeRule\",\n",
    "                \"events:PutRule\",\n",
    "                \"sagemaker:CreateProcessingJob\",\n",
    "                \"s3:ListBucket\",\n",
    "                \"s3:PutObject\",\n",
    "                \"s3:GetObject\",\n",
    "                \"logs:CreateLogGroup\",\n",
    "                \"logs:CreateLogStream\",\n",
    "                \"logs:PutLogEvents\"\n",
    "            ],\n",
    "            \"Resource\": \"*\"\n",
    "        },\n",
    "        {\n",
    "            \"Effect\": \"Allow\",\n",
    "            \"Action\": \"iam:PassRole\",\n",
    "            \"Resource\": step_functions_role_arn,\n",
    "            \"Condition\": {\n",
    "                \"StringEquals\": {\n",
    "                    \"iam:PassedToService\": \"sagemaker.amazonaws.com\"\n",
    "                }\n",
    "            }\n",
    "        }\n",
    "    ]\n",
    "}\n",
    "\n",
    "response = iam_client.create_policy(\n",
    "    PolicyName=step_functions_policy_name,\n",
    "    PolicyDocument=json.dumps(custom_policy),\n",
    ")\n",
    "\n",
    "step_functions_policy_arn = response['Policy']['Arn']"
   ]
  },
  {
   "cell_type": "code",
   "execution_count": null,
   "metadata": {},
   "outputs": [],
   "source": [
    "step_functions_policy_arn"
   ]
  },
  {
   "cell_type": "markdown",
   "metadata": {},
   "source": [
    "作成したカスタムポリシーをロールにアタッチします。"
   ]
  },
  {
   "cell_type": "code",
   "execution_count": null,
   "metadata": {},
   "outputs": [],
   "source": [
    "response = iam_client.attach_role_policy(\n",
    "    RoleName=step_functions_role_name,\n",
    "    PolicyArn=step_functions_policy_arn\n",
    ")"
   ]
  },
  {
   "cell_type": "markdown",
   "metadata": {},
   "source": [
    "### 5-2. state_definition.jsonを作成'\n",
    "visual editorで作成することもできます。ここでは簡単に作成済みのjsonから構築します。"
   ]
  },
  {
   "cell_type": "code",
   "execution_count": null,
   "metadata": {},
   "outputs": [],
   "source": [
    "state_definition = {\n",
    "  \"Comment\": \"A description of my state machine\",\n",
    "  \"StartAt\": \"Preprocess\",\n",
    "  \"States\": {\n",
    "    \"Preprocess\": {\n",
    "      \"Type\": \"Task\",\n",
    "      \"Resource\": \"arn:aws:states:::sagemaker:createProcessingJob.sync\",\n",
    "      \"Parameters\": {\n",
    "        \"ProcessingInputs\": [\n",
    "          {\n",
    "            \"InputName\": \"input\",\n",
    "            \"AppManaged\": False,\n",
    "            \"S3Input\": {\n",
    "              \"S3Uri.$\": \"$$.Execution.Input['pipeline']['input_data_uri']\",\n",
    "              \"LocalPath\": \"/opt/ml/processing/input\",\n",
    "              \"S3DataType\": \"S3Prefix\",\n",
    "              \"S3InputMode\": \"File\",\n",
    "              \"S3DataDistributionType\": \"FullyReplicated\",\n",
    "              \"S3CompressionType\": \"None\"\n",
    "            }\n",
    "          },\n",
    "          {\n",
    "            \"InputName\": \"code\",\n",
    "            \"AppManaged\": False,\n",
    "            \"S3Input\": {\n",
    "              \"S3Uri.$\": \"$$.Execution.Input['preprocess']['code']\",\n",
    "              \"LocalPath\": \"/opt/ml/processing/input/code\",\n",
    "              \"S3DataType\": \"S3Prefix\",\n",
    "              \"S3InputMode\": \"File\",\n",
    "              \"S3DataDistributionType\": \"FullyReplicated\",\n",
    "              \"S3CompressionType\": \"None\"\n",
    "            }\n",
    "          }\n",
    "        ],\n",
    "        \"ProcessingOutputConfig\": {\n",
    "          \"Outputs\": [\n",
    "            {\n",
    "              \"OutputName\": \"output\",\n",
    "              \"AppManaged\": False,\n",
    "              \"S3Output\": {\n",
    "                \"S3Uri.$\": \"$$.Execution.Input['preprocess']['output_data_uri']\",\n",
    "                \"LocalPath\": \"/opt/ml/processing/output\",\n",
    "                \"S3UploadMode\": \"EndOfJob\"\n",
    "              }\n",
    "            }\n",
    "          ]\n",
    "        },\n",
    "        \"AppSpecification\": {\n",
    "          \"ImageUri.$\": \"$$.Execution.Input['preprocess']['ImageUri']\",\n",
    "          \"ContainerArguments.$\": \"$$.Execution.Input['preprocess']['args']\",\n",
    "          \"ContainerEntrypoint.$\": \"States.Array('python3', $$.Execution.Input['preprocess']['ContainerEntrypoint'])\"\n",
    "        },\n",
    "        \"ProcessingResources\": {\n",
    "          \"ClusterConfig\": {\n",
    "            \"InstanceCount.$\": \"$$.Execution.Input['preprocess']['InstanceCount']\",\n",
    "            \"InstanceType.$\": \"$$.Execution.Input['preprocess']['InstanceType']\",\n",
    "            \"VolumeSizeInGB.$\": \"$$.Execution.Input['preprocess']['VolumeSizeInGB']\"\n",
    "          }\n",
    "        },\n",
    "        \"RoleArn\": step_functions_role_arn,\n",
    "        \"ProcessingJobName.$\": \"States.Format('{}-preprocess', $$.Execution.Input['id'])\"\n",
    "      },\n",
    "      \"Next\": \"train\"\n",
    "    },\n",
    "    \"train\": {\n",
    "      \"Type\": \"Task\",\n",
    "      \"Resource\": \"arn:aws:states:::sagemaker:createProcessingJob.sync\",\n",
    "      \"Parameters\": {\n",
    "        \"ProcessingInputs\": [\n",
    "          {\n",
    "            \"InputName\": \"input_preprocess\",\n",
    "            \"AppManaged\": False,\n",
    "            \"S3Input\": {\n",
    "              \"S3Uri.$\": \"$$.Execution.Input['preprocess']['output_data_uri']\",\n",
    "              \"LocalPath\": \"/opt/ml/processing/input/preprocess\",\n",
    "              \"S3DataType\": \"S3Prefix\",\n",
    "              \"S3InputMode\": \"File\",\n",
    "              \"S3DataDistributionType\": \"FullyReplicated\",\n",
    "              \"S3CompressionType\": \"None\"\n",
    "            }\n",
    "          },\n",
    "          {\n",
    "            \"InputName\": \"code\",\n",
    "            \"AppManaged\": False,\n",
    "            \"S3Input\": {\n",
    "              \"S3Uri.$\": \"$$.Execution.Input['train']['code']\",\n",
    "              \"LocalPath\": \"/opt/ml/processing/input/code\",\n",
    "              \"S3DataType\": \"S3Prefix\",\n",
    "              \"S3InputMode\": \"File\",\n",
    "              \"S3DataDistributionType\": \"FullyReplicated\",\n",
    "              \"S3CompressionType\": \"None\"\n",
    "            }\n",
    "          }\n",
    "        ],\n",
    "        \"ProcessingOutputConfig\": {\n",
    "          \"Outputs\": [\n",
    "            {\n",
    "              \"OutputName\": \"output\",\n",
    "              \"AppManaged\": False,\n",
    "              \"S3Output\": {\n",
    "                \"S3Uri.$\": \"$$.Execution.Input['train']['output_data_uri']\",\n",
    "                \"LocalPath\": \"/opt/ml/processing/output\",\n",
    "                \"S3UploadMode\": \"EndOfJob\"\n",
    "              }\n",
    "            }\n",
    "          ]\n",
    "        },\n",
    "        \"AppSpecification\": {\n",
    "          \"ImageUri.$\": \"$$.Execution.Input['train']['ImageUri']\",\n",
    "          \"ContainerArguments.$\": \"$$.Execution.Input['train']['args']\",\n",
    "          \"ContainerEntrypoint.$\": \"States.Array('python3', $$.Execution.Input['train']['ContainerEntrypoint'])\"\n",
    "        },\n",
    "        \"ProcessingResources\": {\n",
    "          \"ClusterConfig\": {\n",
    "            \"InstanceCount.$\": \"$$.Execution.Input['train']['InstanceCount']\",\n",
    "            \"InstanceType.$\": \"$$.Execution.Input['train']['InstanceType']\",\n",
    "            \"VolumeSizeInGB.$\": \"$$.Execution.Input['train']['VolumeSizeInGB']\"\n",
    "          }\n",
    "        },\n",
    "        \"RoleArn\": step_functions_role_arn,\n",
    "        \"ProcessingJobName.$\": \"States.Format('{}-train', $$.Execution.Input['id'])\"\n",
    "      },\n",
    "      \"Next\": \"predict\"\n",
    "    },\n",
    "    \"predict\": {\n",
    "      \"Type\": \"Task\",\n",
    "      \"Resource\": \"arn:aws:states:::sagemaker:createProcessingJob.sync\",\n",
    "      \"Parameters\": {\n",
    "        \"ProcessingInputs\": [\n",
    "          {\n",
    "            \"InputName\": \"input_preprocess\",\n",
    "            \"AppManaged\": False,\n",
    "            \"S3Input\": {\n",
    "              \"S3Uri.$\": \"$$.Execution.Input['preprocess']['output_data_uri']\",\n",
    "              \"LocalPath\": \"/opt/ml/processing/input/preprocess\",\n",
    "              \"S3DataType\": \"S3Prefix\",\n",
    "              \"S3InputMode\": \"File\",\n",
    "              \"S3DataDistributionType\": \"FullyReplicated\",\n",
    "              \"S3CompressionType\": \"None\"\n",
    "            }\n",
    "          },\n",
    "          {\n",
    "            \"InputName\": \"input_train\",\n",
    "            \"AppManaged\": False,\n",
    "            \"S3Input\": {\n",
    "              \"S3Uri.$\": \"$$.Execution.Input['train']['output_data_uri']\",\n",
    "              \"LocalPath\": \"/opt/ml/processing/input/train\",\n",
    "              \"S3DataType\": \"S3Prefix\",\n",
    "              \"S3InputMode\": \"File\",\n",
    "              \"S3DataDistributionType\": \"FullyReplicated\",\n",
    "              \"S3CompressionType\": \"None\"\n",
    "            }\n",
    "          },\n",
    "          {\n",
    "            \"InputName\": \"code\",\n",
    "            \"AppManaged\": False,\n",
    "            \"S3Input\": {\n",
    "              \"S3Uri.$\": \"$$.Execution.Input['predict']['code']\",\n",
    "              \"LocalPath\": \"/opt/ml/processing/input/code\",\n",
    "              \"S3DataType\": \"S3Prefix\",\n",
    "              \"S3InputMode\": \"File\",\n",
    "              \"S3DataDistributionType\": \"FullyReplicated\",\n",
    "              \"S3CompressionType\": \"None\"\n",
    "            }\n",
    "          }\n",
    "        ],\n",
    "        \"ProcessingOutputConfig\": {\n",
    "          \"Outputs\": [\n",
    "            {\n",
    "              \"OutputName\": \"output\",\n",
    "              \"AppManaged\": False,\n",
    "              \"S3Output\": {\n",
    "                \"S3Uri.$\": \"$$.Execution.Input['predict']['output_data_uri']\",\n",
    "                \"LocalPath\": \"/opt/ml/processing/output\",\n",
    "                \"S3UploadMode\": \"EndOfJob\"\n",
    "              }\n",
    "            }\n",
    "          ]\n",
    "        },\n",
    "        \"AppSpecification\": {\n",
    "          \"ImageUri.$\": \"$$.Execution.Input['predict']['ImageUri']\",\n",
    "          \"ContainerArguments.$\": \"$$.Execution.Input['predict']['args']\",\n",
    "          \"ContainerEntrypoint.$\": \"States.Array('python3', $$.Execution.Input['predict']['ContainerEntrypoint'])\"\n",
    "        },\n",
    "        \"ProcessingResources\": {\n",
    "          \"ClusterConfig\": {\n",
    "            \"InstanceCount.$\": \"$$.Execution.Input['predict']['InstanceCount']\",\n",
    "            \"InstanceType.$\": \"$$.Execution.Input['predict']['InstanceType']\",\n",
    "            \"VolumeSizeInGB.$\": \"$$.Execution.Input['predict']['VolumeSizeInGB']\"\n",
    "          }\n",
    "        },\n",
    "        \"RoleArn\": step_functions_role_arn,\n",
    "        \"ProcessingJobName.$\": \"States.Format('{}-predict', $$.Execution.Input['id'])\"\n",
    "      },\n",
    "      \"Next\": \"evaluate\"\n",
    "    },\n",
    "    \"evaluate\": {\n",
    "      \"Type\": \"Task\",\n",
    "      \"Resource\": \"arn:aws:states:::sagemaker:createProcessingJob.sync\",\n",
    "      \"Parameters\": {\n",
    "        \"ProcessingInputs\": [\n",
    "          {\n",
    "            \"InputName\": \"input_preprocess\",\n",
    "            \"AppManaged\": False,\n",
    "            \"S3Input\": {\n",
    "              \"S3Uri.$\": \"$$.Execution.Input['preprocess']['output_data_uri']\",\n",
    "              \"LocalPath\": \"/opt/ml/processing/input/preprocess\",\n",
    "              \"S3DataType\": \"S3Prefix\",\n",
    "              \"S3InputMode\": \"File\",\n",
    "              \"S3DataDistributionType\": \"FullyReplicated\",\n",
    "              \"S3CompressionType\": \"None\"\n",
    "            }\n",
    "          },\n",
    "          {\n",
    "            \"InputName\": \"input_train\",\n",
    "            \"AppManaged\": False,\n",
    "            \"S3Input\": {\n",
    "              \"S3Uri.$\": \"$$.Execution.Input['train']['output_data_uri']\",\n",
    "              \"LocalPath\": \"/opt/ml/processing/input/train\",\n",
    "              \"S3DataType\": \"S3Prefix\",\n",
    "              \"S3InputMode\": \"File\",\n",
    "              \"S3DataDistributionType\": \"FullyReplicated\",\n",
    "              \"S3CompressionType\": \"None\"\n",
    "            }\n",
    "          },\n",
    "          {\n",
    "            \"InputName\": \"input_predict\",\n",
    "            \"AppManaged\": False,\n",
    "            \"S3Input\": {\n",
    "              \"S3Uri.$\": \"$$.Execution.Input['predict']['output_data_uri']\",\n",
    "              \"LocalPath\": \"/opt/ml/processing/input/predict\",\n",
    "              \"S3DataType\": \"S3Prefix\",\n",
    "              \"S3InputMode\": \"File\",\n",
    "              \"S3DataDistributionType\": \"FullyReplicated\",\n",
    "              \"S3CompressionType\": \"None\"\n",
    "            }\n",
    "          },\n",
    "          {\n",
    "            \"InputName\": \"code\",\n",
    "            \"AppManaged\": False,\n",
    "            \"S3Input\": {\n",
    "              \"S3Uri.$\": \"$$.Execution.Input['evaluate']['code']\",\n",
    "              \"LocalPath\": \"/opt/ml/processing/input/code\",\n",
    "              \"S3DataType\": \"S3Prefix\",\n",
    "              \"S3InputMode\": \"File\",\n",
    "              \"S3DataDistributionType\": \"FullyReplicated\",\n",
    "              \"S3CompressionType\": \"None\"\n",
    "            }\n",
    "          }\n",
    "        ],\n",
    "        \"ProcessingOutputConfig\": {\n",
    "          \"Outputs\": [\n",
    "            {\n",
    "              \"OutputName\": \"output\",\n",
    "              \"AppManaged\": False,\n",
    "              \"S3Output\": {\n",
    "                \"S3Uri.$\": \"$$.Execution.Input['evaluate']['output_data_uri']\",\n",
    "                \"LocalPath\": \"/opt/ml/processing/output\",\n",
    "                \"S3UploadMode\": \"EndOfJob\"\n",
    "              }\n",
    "            }\n",
    "          ]\n",
    "        },\n",
    "        \"AppSpecification\": {\n",
    "          \"ImageUri.$\": \"$$.Execution.Input['evaluate']['ImageUri']\",\n",
    "          \"ContainerArguments.$\": \"$$.Execution.Input['evaluate']['args']\",\n",
    "          \"ContainerEntrypoint.$\": \"States.Array('python3', $$.Execution.Input['evaluate']['ContainerEntrypoint'])\"\n",
    "        },\n",
    "        \"ProcessingResources\": {\n",
    "          \"ClusterConfig\": {\n",
    "            \"InstanceCount.$\": \"$$.Execution.Input['evaluate']['InstanceCount']\",\n",
    "            \"InstanceType.$\": \"$$.Execution.Input['evaluate']['InstanceType']\",\n",
    "            \"VolumeSizeInGB.$\": \"$$.Execution.Input['evaluate']['VolumeSizeInGB']\"\n",
    "          }\n",
    "        },\n",
    "        \"RoleArn\": step_functions_role_arn,\n",
    "        \"ProcessingJobName.$\": \"States.Format('{}-evaluate', $$.Execution.Input['id'])\"\n",
    "      },\n",
    "      \"End\": True\n",
    "    }\n",
    "  }\n",
    "}"
   ]
  },
  {
   "cell_type": "code",
   "execution_count": null,
   "metadata": {},
   "outputs": [],
   "source": [
    "### jsonファイル作成\n",
    "with open('state_definition.json', mode='wt', encoding='utf-8') as file:\n",
    "    json.dump(state_definition, file, ensure_ascii=False, indent=4)"
   ]
  },
  {
   "cell_type": "markdown",
   "metadata": {},
   "source": [
    "### 5-3. StepFunctionsの実験パイプラインを構築\n",
    "(注意)ロール作成後即座に実行すると、作成が間に合わずエラーになる場合がある。その場合少し待って再度実行する"
   ]
  },
  {
   "cell_type": "code",
   "execution_count": null,
   "metadata": {},
   "outputs": [],
   "source": [
    "import json\n",
    "stepfunctions = boto3.client('stepfunctions')\n",
    "\n",
    "stepfunctions.create_state_machine(\n",
    "    name='exp-preprocess-train-predict-evaluate',\n",
    "    definition=open(\"state_definition.json\").read(),\n",
    "    roleArn=step_functions_role_arn\n",
    ")"
   ]
  },
  {
   "cell_type": "markdown",
   "metadata": {},
   "source": [
    "以上で、MLOpsエンジニアによって実験パイプラインが構築されました。\n",
    "データサイエンティストはこの実験パイプラインを利用して、実験環境であるコンテナやハードウェアであるインスタンスタイプを指定して、実験の試行錯誤を行うことができます。\n",
    "次のノートブックでは、ノートブックから.pyファイルへのモジュール化を行います。"
   ]
  },
  {
   "cell_type": "code",
   "execution_count": null,
   "metadata": {},
   "outputs": [],
   "source": []
  },
  {
   "cell_type": "code",
   "execution_count": null,
   "metadata": {},
   "outputs": [],
   "source": []
  },
  {
   "cell_type": "code",
   "execution_count": null,
   "metadata": {},
   "outputs": [],
   "source": []
  },
  {
   "cell_type": "code",
   "execution_count": null,
   "metadata": {},
   "outputs": [],
   "source": []
  },
  {
   "cell_type": "code",
   "execution_count": null,
   "metadata": {},
   "outputs": [],
   "source": []
  },
  {
   "cell_type": "code",
   "execution_count": null,
   "metadata": {},
   "outputs": [],
   "source": []
  }
 ],
 "metadata": {
  "instance_type": "ml.t3.medium",
  "kernelspec": {
   "display_name": "Python 3 (Data Science)",
   "language": "python",
   "name": "python3__SAGEMAKER_INTERNAL__arn:aws:sagemaker:ap-northeast-1:102112518831:image/datascience-1.0"
  },
  "language_info": {
   "codemirror_mode": {
    "name": "ipython",
    "version": 3
   },
   "file_extension": ".py",
   "mimetype": "text/x-python",
   "name": "python",
   "nbconvert_exporter": "python",
   "pygments_lexer": "ipython3",
   "version": "3.7.10"
  }
 },
 "nbformat": 4,
 "nbformat_minor": 5
}
